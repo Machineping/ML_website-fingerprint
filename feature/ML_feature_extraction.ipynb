{
  "nbformat": 4,
  "nbformat_minor": 0,
  "metadata": {
    "colab": {
      "provenance": [],
      "gpuType": "T4",
      "authorship_tag": "ABX9TyOUNbEaGBga5oJqKQJ3tvcW",
      "include_colab_link": true
    },
    "kernelspec": {
      "name": "python3",
      "display_name": "Python 3"
    },
    "language_info": {
      "name": "python"
    }
  },
  "cells": [
    {
      "cell_type": "markdown",
      "metadata": {
        "id": "view-in-github",
        "colab_type": "text"
      },
      "source": [
        "<a href=\"https://colab.research.google.com/github/jiuuu26/ML_website-fingerprint/blob/main/feature/ML_feature_extraction.ipynb\" target=\"_parent\"><img src=\"https://colab.research.google.com/assets/colab-badge.svg\" alt=\"Open In Colab\"/></a>"
      ]
    },
    {
      "cell_type": "code",
      "execution_count": null,
      "metadata": {
        "colab": {
          "base_uri": "https://localhost:8080/"
        },
        "id": "zpc2p_8c99DA",
        "outputId": "5a5e423b-71a2-45c0-e239-0c86bd82dc5c"
      },
      "outputs": [
        {
          "output_type": "stream",
          "name": "stdout",
          "text": [
            "Mounted at /content/drive\n"
          ]
        }
      ],
      "source": [
        "import pickle\n",
        "from google.colab import drive\n",
        "drive.mount('/content/drive')\n"
      ]
    },
    {
      "cell_type": "markdown",
      "source": [
        "## monitored 특징 추출"
      ],
      "metadata": {
        "id": "pb7ceYEV-9Ln"
      }
    },
    {
      "cell_type": "code",
      "source": [
        "import pickle\n",
        "\n",
        "USE_SUBLABEL = False\n",
        "URL_PER_SITE = 10\n",
        "TOTAL_URLS   = 950\n",
        "\n",
        "# Load the pickle file\n",
        "print(\"Loading datafile...\")\n",
        "with open(\"/content/drive/MyDrive/ML_2024_2/mon_standard.pkl\", 'rb') as fi: # Path to mon_standard.pkl in Colab\n",
        "    data = pickle.load(fi)\n",
        "\n",
        "X1 = [] # Array to store instances (timestamps) - 19,000 instances, e.g., [[0.0, 0.5, 3.4, ...], [0.0, 4.5, ...], [0.0, 1.5, ...], ... [... ,45.8]]\n",
        "X2 = [] # Array to store instances (direction*size) - size information\n",
        "y = [] # Array to store the site of each instance - 19,000 instances, e.g., [0, 0, 0, 0, 0, 0, ..., 94, 94, 94, 94, 94]\n",
        "\n",
        "# Differentiate instances and sites, and store them in the respective x and y arrays\n",
        "# x array (direction*timestamp), y array (site label)\n",
        "for i in range(TOTAL_URLS):\n",
        "    if USE_SUBLABEL:\n",
        "        label = i\n",
        "    else:\n",
        "        label = i // URL_PER_SITE # Calculate which site's URL the current URL being processed belongs to and set that value as the label. Thus, URLs fetched from the same site are labeled identically.\n",
        "    for sample in data[i]:\n",
        "        size_seq = []\n",
        "        time_seq = []\n",
        "        for c in sample:\n",
        "            dr = 1 if c > 0 else -1\n",
        "            time_seq.append(abs(c))\n",
        "            size_seq.append(dr * 512)\n",
        "        X1.append(time_seq)\n",
        "        X2.append(size_seq)\n",
        "        y.append(label)\n",
        "size = len(y)\n",
        "\n",
        "print(f'Total samples: {size}') # Output: 19000"
      ],
      "metadata": {
        "colab": {
          "base_uri": "https://localhost:8080/"
        },
        "id": "c8NZnNAFC5q0",
        "outputId": "857a1d6c-9ad6-4e6b-c344-4b42cc14d7db"
      },
      "execution_count": null,
      "outputs": [
        {
          "output_type": "stream",
          "name": "stdout",
          "text": [
            "Loading datafile...\n",
            "Total samples: 19000\n"
          ]
        }
      ]
    },
    {
      "cell_type": "code",
      "source": [
        "num_total_packets = [] # feature 1\n",
        "sum_packets = [] # feature 2\n",
        "num_incoming_packets = [] # feature 3\n",
        "frac_incoming_packets = [] # feature 4\n",
        "num_outgoing_packets=[] # feature 5\n",
        "frac_outgoing_packets=[] # feature 6\n",
        "cumulative_packet_size_seq = [] # feature 7\n",
        "packet_size_ratios = [] # feature 8\n",
        "burst_lengths = []  # feature 9\n",
        "burst_seq = []  # feature 10\n",
        "average_incoming_ordering=[] # feature 11\n",
        "std_dev_incoming_ordering=[] # feature 12\n",
        "average_outgoing_ordering=[] # feature 13\n",
        "std_dev_outgoing_ordering=[] # feature14"
      ],
      "metadata": {
        "id": "9AWwVOdkE0Bv"
      },
      "execution_count": null,
      "outputs": []
    },
    {
      "cell_type": "code",
      "source": [
        "import numpy as np\n",
        "\n",
        "for size_seq in X2:\n",
        "    # 1. Total number of pacekts\n",
        "    total = len(size_seq)\n",
        "    num_total_packets.append(total)\n",
        "\n",
        "    # 2. Sum of packets (absolute value gives the size regardless of direction)\n",
        "    sum_pckts = sum(abs(size) for size in size_seq)\n",
        "    sum_packets.append(sum_pckts)\n",
        "\n",
        "    # 3. Number of incoming packets\n",
        "    incoming = sum(1 for size in size_seq if size < 0)\n",
        "    num_incoming_packets.append(incoming)\n",
        "\n",
        "    # 4. Number of incoming packets as a fraction of the total number of packets\n",
        "    frac_incoming = incoming / total if total > 0 else 0\n",
        "    frac_incoming_packets.append(frac_incoming)\n",
        "\n",
        "    # 5. Number of outgoing packets\n",
        "    outgoing = sum(1 for size in size_seq if size > 0)\n",
        "    num_outgoing_packets.append(outgoing)\n",
        "\n",
        "    # 6. Number of outgoing packets as a fraction of the total number of packets\n",
        "    frac_outgoing = outgoing / total if total > 0 else 0\n",
        "    frac_outgoing_packets.append(frac_outgoing)\n"
      ],
      "metadata": {
        "id": "45Ym2ncLI-UL"
      },
      "execution_count": null,
      "outputs": []
    },
    {
      "cell_type": "code",
      "source": [
        "import pandas as pd\n",
        "\n",
        "data = {\n",
        "    'feature 1': num_total_packets,\n",
        "    'feature 2': sum_packets,\n",
        "    'feature 3': num_incoming_packets,\n",
        "    'feature 4': frac_incoming_packets,\n",
        "    'feature 5': num_outgoing_packets,\n",
        "    'feature 6': frac_outgoing_packets\n",
        "}\n",
        "\n",
        "df = pd.DataFrame(data)\n",
        "print(df.head())"
      ],
      "metadata": {
        "colab": {
          "base_uri": "https://localhost:8080/"
        },
        "id": "vFQbrEJtTQg7",
        "outputId": "328cccbf-a549-46f6-900d-5ef705715c75"
      },
      "execution_count": null,
      "outputs": [
        {
          "output_type": "stream",
          "name": "stdout",
          "text": [
            "   feature 1  feature 2  feature 3  feature 4  feature 5  feature 6\n",
            "0       1421     727552       1300   0.914849        121   0.085151\n",
            "1        518     265216        438   0.845560         80   0.154440\n",
            "2       1358     695296       1240   0.913108        118   0.086892\n",
            "3       1446     740352       1324   0.915629        122   0.084371\n",
            "4       1406     719872       1291   0.918208        115   0.081792\n"
          ]
        }
      ]
    },
    {
      "cell_type": "code",
      "source": [
        " for size_seq in X2:\n",
        "    # 7. Cumulative Packet Size Sequence\n",
        "    cumulative_size = 0\n",
        "    cumulative_size_seq = []\n",
        "    for size in size_seq:\n",
        "        cumulative_size += size  # 누적 크기 계산\n",
        "        cumulative_size_seq.append(cumulative_size)\n",
        "    cumulative_packet_size_seq.append(cumulative_size_seq)\n",
        "\n",
        "    # 8. Packet Size Ratios\n",
        "    outgoing_size_sum = sum(size for size in size_seq if size > 0)\n",
        "    incoming_size_sum = abs(sum(size for size in size_seq if size < 0))  # 절대값 사용\n",
        "    packet_size_ratio = outgoing_size_sum / incoming_size_sum if incoming_size_sum > 0 else 0\n",
        "    packet_size_ratios.append(packet_size_ratio)\n",
        "\n",
        "    # 9. Burst Lengths\n",
        "    bursts = []\n",
        "    current_burst = 0\n",
        "    last_direction = np.sign(size_seq[0]) if size_seq else 0  # 초기 방향 설정\n",
        "    for size in size_seq:\n",
        "        direction = np.sign(size)\n",
        "\n",
        "        if direction == last_direction:\n",
        "            current_burst += size\n",
        "        else:\n",
        "            bursts.append(current_burst)\n",
        "            current_burst = size          # 새 버스트 시작\n",
        "            last_direction = direction\n",
        "\n",
        "    if current_burst != 0:\n",
        "        bursts.append(current_burst)  # 마지막 버스트 추가\n",
        "\n",
        "    burst_seq.append(bursts)               # 버스트 시퀀스 저장\n",
        "    burst_lengths.append(len(bursts))      # 버스트 길이 저장"
      ],
      "metadata": {
        "id": "v_UdNtXcTGyf"
      },
      "execution_count": null,
      "outputs": []
    },
    {
      "cell_type": "code",
      "source": [
        "data = {\n",
        "    'feature 7': cumulative_packet_size_seq,\n",
        "    'feature 8': packet_size_ratios,\n",
        "    'feature 9': burst_lengths,\n",
        "    'feature 10': burst_seq,\n",
        "}\n",
        "\n",
        "df = pd.DataFrame(data)\n",
        "print(df.head())"
      ],
      "metadata": {
        "colab": {
          "base_uri": "https://localhost:8080/"
        },
        "id": "iXDjvn02TVNV",
        "outputId": "b3c1ae35-0aa2-4faa-e370-5d1dc813e3af"
      },
      "execution_count": null,
      "outputs": [
        {
          "output_type": "stream",
          "name": "stdout",
          "text": [
            "                                           feature 7  feature 8  feature 9  \\\n",
            "0  [-512, -1024, -512, -1024, -512, -1024, -512, ...   0.093077        156   \n",
            "1  [-512, -1024, -512, -1024, -512, -1024, -512, ...   0.182648         94   \n",
            "2  [-512, -1024, -512, -1024, -512, -1024, -512, ...   0.095161        152   \n",
            "3  [-512, -1024, -512, -1024, -512, -1024, -512, ...   0.092145        160   \n",
            "4  [-512, -1024, -512, -1024, -512, -1024, -512, ...   0.089078        158   \n",
            "\n",
            "                                          feature 10  \n",
            "0  [-1024, 512, -512, 512, -512, 1024, -7168, 512...  \n",
            "1  [-1024, 512, -512, 512, -512, 1024, -7168, 512...  \n",
            "2  [-1024, 512, -512, 512, -512, 1024, -7168, 512...  \n",
            "3  [-1024, 512, -512, 512, -512, 1024, -7168, 512...  \n",
            "4  [-1024, 512, -512, 512, -512, 1024, -7168, 512...  \n"
          ]
        }
      ]
    },
    {
      "cell_type": "code",
      "source": [
        "for size_seq in X2:\n",
        "    # 11. Average of the incoming packet ordering list\n",
        "    incoming_ordering_list = []\n",
        "    for idx, size in enumerate(size_seq):\n",
        "        if size < 0:\n",
        "            incoming_ordering_list.append(idx)\n",
        "\n",
        "    average_incoming_ordering.append(np.mean(incoming_ordering_list))\n",
        "\n",
        "    # 12. Standard deviation of the incoming packet ordering list\n",
        "    std_dev_incoming_ordering.append(np.std(incoming_ordering_list))\n",
        "\n",
        "    # 13. Average of the outgoing packet ordering list\n",
        "    outgoing_ordering_list = []\n",
        "    for idx, size in enumerate(size_seq):\n",
        "        if size > 0:\n",
        "            outgoing_ordering_list.append(idx)\n",
        "    average_outgoing_ordering.append(np.mean(outgoing_ordering_list))\n",
        "\n",
        "    # 14. Standard deviation of the outgoing packet ordering list\n",
        "    std_dev_outgoing_ordering.append(np.std(outgoing_ordering_list))"
      ],
      "metadata": {
        "id": "31pxLquKTHgl"
      },
      "execution_count": null,
      "outputs": []
    },
    {
      "cell_type": "code",
      "source": [
        "data = {\n",
        "    'feature 11': average_incoming_ordering,\n",
        "    'feature 12': std_dev_incoming_ordering,\n",
        "    'feature 13': average_outgoing_ordering,\n",
        "    'feature 14': std_dev_outgoing_ordering\n",
        "}\n",
        "\n",
        "df = pd.DataFrame(data)\n",
        "print(df.head())"
      ],
      "metadata": {
        "colab": {
          "base_uri": "https://localhost:8080/"
        },
        "id": "Tdo5VbKoUxd2",
        "outputId": "5165e872-82c4-4d94-b73d-415c75e753ca"
      },
      "execution_count": null,
      "outputs": [
        {
          "output_type": "stream",
          "name": "stdout",
          "text": [
            "   feature 11  feature 12  feature 13  feature 14\n",
            "0  704.106154  398.486335  773.322314  515.483953\n",
            "1  264.406393  150.591146  226.162500  139.231951\n",
            "2  668.259677  381.878642  786.110169  472.735508\n",
            "3  713.503021  406.205288  820.139344  513.916038\n",
            "4  694.740511  395.028889  789.608696  503.993490\n"
          ]
        }
      ]
    },
    {
      "cell_type": "code",
      "source": [
        "print(len(num_total_packets))\n",
        "print(len(sum_packets))\n",
        "print(len(num_incoming_packets))\n",
        "print(len(frac_incoming_packets))\n",
        "print(len(num_outgoing_packets))\n",
        "print(len(frac_outgoing_packets))\n",
        "print(len(cumulative_packet_size_seq))\n",
        "print(len(packet_size_ratios))\n",
        "print(len(burst_lengths))\n",
        "print(len(burst_seq))\n",
        "print(len(average_incoming_ordering))\n",
        "print(len(std_dev_incoming_ordering))\n",
        "print(len(average_outgoing_ordering))\n",
        "print(len(std_dev_outgoing_ordering))"
      ],
      "metadata": {
        "colab": {
          "base_uri": "https://localhost:8080/"
        },
        "id": "rmJ2ObjaWoi1",
        "outputId": "adb19e50-6db3-4145-a566-1510b8aa5dea"
      },
      "execution_count": null,
      "outputs": [
        {
          "output_type": "stream",
          "name": "stdout",
          "text": [
            "19000\n",
            "19000\n",
            "19000\n",
            "19000\n",
            "19000\n",
            "19000\n",
            "19000\n",
            "19000\n",
            "19000\n",
            "19000\n",
            "19000\n",
            "19000\n",
            "19000\n",
            "19000\n"
          ]
        }
      ]
    },
    {
      "cell_type": "markdown",
      "source": [
        "#### 특징 추가 15~19"
      ],
      "metadata": {
        "id": "xmCMbIctX8ww"
      }
    },
    {
      "cell_type": "code",
      "source": [
        "avg_packet_size = []  # feature 15\n",
        "max_packet_size = []  # feature 16\n",
        "avg_inter_arrival_time = []  # feature 17\n",
        "var_packet_size = []  # feature 18\n",
        "alternative_packets_per_second_sum = [] # feature 19\n",
        "\n",
        "for time_seq, size_seq in zip(X1, X2):\n",
        "    # 15. Average Packet Size\n",
        "    avg_size = sum(abs(size) for size in size_seq) / len(size_seq) if size_seq else 0\n",
        "    avg_packet_size.append(avg_size)\n",
        "\n",
        "    # 16. Max Packet Size\n",
        "    max_size = max(abs(size) for size in size_seq) if size_seq else 0\n",
        "    max_packet_size.append(max_size)\n",
        "\n",
        "    # 17. Packet Inter-Arrival Time (IAT)\n",
        "    inter_arrival_time = np.mean(np.diff(time_seq)) if len(time_seq) > 1 else 0\n",
        "    avg_inter_arrival_time.append(inter_arrival_time)\n",
        "\n",
        "    # 18. Variance of Packet Size\n",
        "    var_size = np.var([abs(size) for size in size_seq]) if size_seq else 0\n",
        "    var_packet_size.append(var_size)\n",
        "\n",
        "    # 19. Alternative packets per second\n",
        "    packets_per_subset = len(size_seq) // 20 # 20 even-sized subsets\n",
        "    subset_sums = []\n",
        "\n",
        "    for i in range(0, len(size_seq), packets_per_subset):\n",
        "        start_index = i\n",
        "        end_index = min(i + packets_per_subset, len(size_seq))\n",
        "\n",
        "        time_interval = time_seq[end_index - 1] - time_seq[start_index]\n",
        "        time_interval = max(time_interval, 0.001) # Ensure that the time interval does not become zero.\n",
        "\n",
        "        packets_per_second = (end_index - start_index) / time_interval\n",
        "        subset_sums.append(packets_per_second)\n",
        "\n",
        "        if (end_index == packets_per_subset*20):\n",
        "            break\n",
        "\n",
        "    alternative_packets_per_second_sum.append(sum(subset_sums))\n"
      ],
      "metadata": {
        "id": "dBmWZ5BGWPm5"
      },
      "execution_count": null,
      "outputs": []
    },
    {
      "cell_type": "code",
      "source": [
        "data = {\n",
        "   'feature 15':avg_packet_size,\n",
        "   'feature 16':max_packet_size,\n",
        "   'feature 17':avg_inter_arrival_time,\n",
        "   'feature 18':var_packet_size,\n",
        "   'feature 19':alternative_packets_per_second_sum\n",
        "}\n",
        "\n",
        "df = pd.DataFrame(data)\n",
        "print(df.head())"
      ],
      "metadata": {
        "colab": {
          "base_uri": "https://localhost:8080/"
        },
        "id": "y13zKWbcZUx9",
        "outputId": "bf8d3460-cade-4c87-f073-3d60c7931de7"
      },
      "execution_count": null,
      "outputs": [
        {
          "output_type": "stream",
          "name": "stdout",
          "text": [
            "   feature 15  feature 16  feature 17  feature 18     feature 19\n",
            "0       512.0         512    0.007141         0.0   25281.847992\n",
            "1       512.0         512    0.019652         0.0   34200.937813\n",
            "2       512.0         512    0.008187         0.0  107531.177098\n",
            "3       512.0         512    0.009246         0.0   23241.614790\n",
            "4       512.0         512    0.007573         0.0   55080.330639\n"
          ]
        }
      ]
    },
    {
      "cell_type": "code",
      "source": [
        "print(len(avg_packet_size))\n",
        "print(len(max_packet_size))\n",
        "print(len(avg_inter_arrival_time))\n",
        "print(len(var_packet_size))\n",
        "print(len(alternative_packets_per_second_sum))"
      ],
      "metadata": {
        "colab": {
          "base_uri": "https://localhost:8080/"
        },
        "id": "bfeQ_-nDZgSu",
        "outputId": "31270e26-2355-42ac-9d06-22d7d459500b"
      },
      "execution_count": null,
      "outputs": [
        {
          "output_type": "stream",
          "name": "stdout",
          "text": [
            "19000\n",
            "19000\n",
            "19000\n",
            "19000\n",
            "19000\n"
          ]
        }
      ]
    },
    {
      "cell_type": "markdown",
      "source": [
        "#### 특징 추가 20~23"
      ],
      "metadata": {
        "id": "PKOgAV4PbabY"
      }
    },
    {
      "cell_type": "code",
      "source": [
        "num_packets_per_second = [] # feature 20\n",
        "mean_packets_per_second = [] # feature 21\n",
        "std_packets_per_second = [] # feature 22\n",
        "med_packets_per_second = [] #feature 23\n",
        "\n",
        "import statistics\n",
        "\n",
        "for i in range(len(X1)):\n",
        "    num_packets = len(X1[i]) / X1[i][-1]\n",
        "    mean_packets = statistics.mean(X1[i])\n",
        "    std_packets = statistics.stdev(X1[i])\n",
        "    med_packets = statistics.median(X1[i])\n",
        "\n",
        "    num_packets_per_second.append(num_packets)\n",
        "    mean_packets_per_second.append(mean_packets)\n",
        "    std_packets_per_second.append(std_packets)\n",
        "    med_packets_per_second.append(med_packets)"
      ],
      "metadata": {
        "id": "WEFdpIvXa8T4"
      },
      "execution_count": null,
      "outputs": []
    },
    {
      "cell_type": "code",
      "source": [
        "data = {\n",
        "   'feature 20':num_packets_per_second,\n",
        "   'feature 21':mean_packets_per_second,\n",
        "   'feature 22':std_packets_per_second,\n",
        "   'feature 23':med_packets_per_second,\n",
        "}\n",
        "\n",
        "df = pd.DataFrame(data)\n",
        "print(df.head())"
      ],
      "metadata": {
        "colab": {
          "base_uri": "https://localhost:8080/"
        },
        "id": "rQExmSC9bRkQ",
        "outputId": "9af9bc5c-a492-4568-b44a-51207bc40832"
      },
      "execution_count": null,
      "outputs": [
        {
          "output_type": "stream",
          "name": "stdout",
          "text": [
            "   feature 20  feature 21  feature 22  feature 23\n",
            "0  140.138067    4.315749    1.128739        4.09\n",
            "1   50.984252    4.611815    1.371935        4.80\n",
            "2  122.232223    5.488969    1.179699        5.15\n",
            "3  108.233533    5.995512    1.709479        5.57\n",
            "4  132.142857    4.698869    1.297546        4.31\n"
          ]
        }
      ]
    },
    {
      "cell_type": "code",
      "source": [
        "print(len(num_packets_per_second))\n",
        "print(len(mean_packets_per_second))\n",
        "print(len(std_packets_per_second))\n",
        "print(len(med_packets_per_second))"
      ],
      "metadata": {
        "colab": {
          "base_uri": "https://localhost:8080/"
        },
        "id": "Ksw-Emj_b4g0",
        "outputId": "4ce768e2-a26e-44cb-affe-97faf5b15e70"
      },
      "execution_count": null,
      "outputs": [
        {
          "output_type": "stream",
          "name": "stdout",
          "text": [
            "19000\n",
            "19000\n",
            "19000\n",
            "19000\n"
          ]
        }
      ]
    },
    {
      "cell_type": "code",
      "source": [
        "outgoing_counts=[]\n",
        "burst_packet_counts=[]\n",
        "first_packet_direction = [] # feature 24\n",
        "num_packets_longest_burst = [] # feature 25\n",
        "\n",
        "for size_seq in X2:\n",
        "\n",
        "    bursts = 1 if size_seq else 0\n",
        "    current_direction = size_seq[0] if size_seq else None\n",
        "    current_burst_length = 1\n",
        "    longest_burst = 1\n",
        "    outgoing_counts = []\n",
        "    burst_packet_counts = []\n",
        "\n",
        "    # Feature 24: First Packet Direction\n",
        "    first_direction = 1 if size_seq and size_seq[0] > 0 else -1 if size_seq and size_seq[0] < 0 else 0\n",
        "    first_packet_direction.append(first_direction)\n",
        "\n",
        "    for i in range(1, len(size_seq)):\n",
        "        if size_seq[i] * current_direction <= 0:  # 방향이 바뀌면 새 버스트 시작\n",
        "            bursts += 1\n",
        "            outgoing_counts.append(sum(1 for size in size_seq[i - current_burst_length:i] if size > 0))\n",
        "            burst_packet_counts.append(current_burst_length)\n",
        "            longest_burst = max(longest_burst, current_burst_length)\n",
        "            current_direction = size_seq[i]\n",
        "            current_burst_length = 1\n",
        "        else:\n",
        "            current_burst_length += 1\n",
        "\n",
        "    if size_seq:\n",
        "        outgoing_counts.append(sum(1 for size in size_seq[-current_burst_length:] if size > 0))\n",
        "        burst_packet_counts.append(current_burst_length)\n",
        "        longest_burst = max(longest_burst, current_burst_length)\n",
        "\n",
        "    # Feature 25: Number of Packets in the Longest Burst 저장\n",
        "    num_packets_longest_burst.append(longest_burst)"
      ],
      "metadata": {
        "id": "_G3z8mb3WNnf"
      },
      "execution_count": null,
      "outputs": []
    },
    {
      "cell_type": "code",
      "source": [
        "data = {\n",
        "   'feature 24':first_packet_direction,\n",
        "   'feature 25':num_packets_longest_burst\n",
        "}\n",
        "\n",
        "df = pd.DataFrame(data)\n",
        "print(df.head())"
      ],
      "metadata": {
        "colab": {
          "base_uri": "https://localhost:8080/"
        },
        "id": "Bpu7C4Wj9w72",
        "outputId": "e9af49cc-ab6b-4b67-9570-df4b1325ac7b"
      },
      "execution_count": null,
      "outputs": [
        {
          "output_type": "stream",
          "name": "stdout",
          "text": [
            "   feature 24  feature 25\n",
            "0          -1          66\n",
            "1          -1          50\n",
            "2          -1          50\n",
            "3          -1          70\n",
            "4          -1          60\n"
          ]
        }
      ]
    },
    {
      "cell_type": "code",
      "source": [
        "print(len(first_packet_direction))\n",
        "print(len(num_packets_longest_burst))"
      ],
      "metadata": {
        "colab": {
          "base_uri": "https://localhost:8080/"
        },
        "id": "5uxSbFkb93NB",
        "outputId": "7840dc53-1e58-4938-85c7-8294700dadea"
      },
      "execution_count": null,
      "outputs": [
        {
          "output_type": "stream",
          "name": "stdout",
          "text": [
            "19000\n",
            "19000\n"
          ]
        }
      ]
    },
    {
      "cell_type": "markdown",
      "source": [
        "#### 14개 특징 데이터"
      ],
      "metadata": {
        "id": "7065Og_7dRB8"
      }
    },
    {
      "cell_type": "code",
      "source": [
        "mon_data_14 = {\n",
        "    'num_total_packets': num_total_packets,\n",
        "    'sum_packets': sum_packets,\n",
        "    'num_incoming_packets': num_incoming_packets,\n",
        "    'frac_incoming_packets': frac_incoming_packets,\n",
        "    'num_outgoing_packets': num_outgoing_packets,\n",
        "    'frac_outgoing_packets': frac_outgoing_packets,\n",
        "    'cumulative_packet_size_seq': cumulative_packet_size_seq,\n",
        "    'packet_size_ratios': packet_size_ratios,\n",
        "    'burst_lengths': burst_lengths,\n",
        "    'burst_seq': burst_seq,\n",
        "    'average_incoming_ordering': average_incoming_ordering,\n",
        "    'std_dev_incoming_ordering': std_dev_incoming_ordering,\n",
        "    'average_outgoing_ordering': average_outgoing_ordering,\n",
        "    'std_dev_outgoing_ordering': std_dev_outgoing_ordering\n",
        "}\n",
        "\n",
        "df_14 = pd.DataFrame(mon_data_14)\n",
        "print(df_14.head())"
      ],
      "metadata": {
        "colab": {
          "base_uri": "https://localhost:8080/"
        },
        "id": "Eg_8Kfn2dI50",
        "outputId": "0cb3d0c5-ab94-45fc-94c8-79af2a3e5075"
      },
      "execution_count": null,
      "outputs": [
        {
          "output_type": "stream",
          "name": "stdout",
          "text": [
            "   num_total_packets  sum_packets  num_incoming_packets  \\\n",
            "0               1421       727552                  1300   \n",
            "1                518       265216                   438   \n",
            "2               1358       695296                  1240   \n",
            "3               1446       740352                  1324   \n",
            "4               1406       719872                  1291   \n",
            "\n",
            "   frac_incoming_packets  num_outgoing_packets  frac_outgoing_packets  \\\n",
            "0               0.914849                   121               0.085151   \n",
            "1               0.845560                    80               0.154440   \n",
            "2               0.913108                   118               0.086892   \n",
            "3               0.915629                   122               0.084371   \n",
            "4               0.918208                   115               0.081792   \n",
            "\n",
            "                          cumulative_packet_size_seq  packet_size_ratios  \\\n",
            "0  [-512, -1024, -512, -1024, -512, -1024, -512, ...            0.093077   \n",
            "1  [-512, -1024, -512, -1024, -512, -1024, -512, ...            0.182648   \n",
            "2  [-512, -1024, -512, -1024, -512, -1024, -512, ...            0.095161   \n",
            "3  [-512, -1024, -512, -1024, -512, -1024, -512, ...            0.092145   \n",
            "4  [-512, -1024, -512, -1024, -512, -1024, -512, ...            0.089078   \n",
            "\n",
            "   burst_lengths                                          burst_seq  \\\n",
            "0            156  [-1024, 512, -512, 512, -512, 1024, -7168, 512...   \n",
            "1             94  [-1024, 512, -512, 512, -512, 1024, -7168, 512...   \n",
            "2            152  [-1024, 512, -512, 512, -512, 1024, -7168, 512...   \n",
            "3            160  [-1024, 512, -512, 512, -512, 1024, -7168, 512...   \n",
            "4            158  [-1024, 512, -512, 512, -512, 1024, -7168, 512...   \n",
            "\n",
            "   average_incoming_ordering  std_dev_incoming_ordering  \\\n",
            "0                 704.106154                 398.486335   \n",
            "1                 264.406393                 150.591146   \n",
            "2                 668.259677                 381.878642   \n",
            "3                 713.503021                 406.205288   \n",
            "4                 694.740511                 395.028889   \n",
            "\n",
            "   average_outgoing_ordering  std_dev_outgoing_ordering  \n",
            "0                 773.322314                 515.483953  \n",
            "1                 226.162500                 139.231951  \n",
            "2                 786.110169                 472.735508  \n",
            "3                 820.139344                 513.916038  \n",
            "4                 789.608696                 503.993490  \n"
          ]
        }
      ]
    },
    {
      "cell_type": "markdown",
      "source": [
        "#### 19개 특징 데이터"
      ],
      "metadata": {
        "id": "fEima4VOddBY"
      }
    },
    {
      "cell_type": "code",
      "source": [
        "mon_data_19 = {\n",
        "    'num_total_packets': num_total_packets,\n",
        "    'sum_packets': sum_packets,\n",
        "    'num_incoming_packets': num_incoming_packets,\n",
        "    'frac_incoming_packets': frac_incoming_packets,\n",
        "    'num_outgoing_packets': num_outgoing_packets,\n",
        "    'frac_outgoing_packets': frac_outgoing_packets,\n",
        "    'cumulative_packet_size_seq': cumulative_packet_size_seq,\n",
        "    'packet_size_ratios': packet_size_ratios,\n",
        "    'burst_lengths': burst_lengths,\n",
        "    'burst_seq': burst_seq,\n",
        "    'average_incoming_ordering': average_incoming_ordering,\n",
        "    'std_dev_incoming_ordering': std_dev_incoming_ordering,\n",
        "    'average_outgoing_ordering': average_outgoing_ordering,\n",
        "    'std_dev_outgoing_ordering': std_dev_outgoing_ordering,\n",
        "    'avg_packet_size':avg_packet_size,\n",
        "    'max_packet_size':max_packet_size,\n",
        "    'avg_inter_arrival_time':avg_inter_arrival_time,\n",
        "    'var_packet_size':var_packet_size,\n",
        "    'alternative_packets_per_second_sum':alternative_packets_per_second_sum\n",
        "}\n",
        "\n",
        "df_19 = pd.DataFrame(mon_data_19)\n",
        "print(df_19.head())"
      ],
      "metadata": {
        "colab": {
          "base_uri": "https://localhost:8080/"
        },
        "id": "l6GBFlNJdhUB",
        "outputId": "97e986da-66eb-4c3f-fd35-437fe0fe0a65"
      },
      "execution_count": null,
      "outputs": [
        {
          "output_type": "stream",
          "name": "stdout",
          "text": [
            "   num_total_packets  sum_packets  num_incoming_packets  \\\n",
            "0               1421       727552                  1300   \n",
            "1                518       265216                   438   \n",
            "2               1358       695296                  1240   \n",
            "3               1446       740352                  1324   \n",
            "4               1406       719872                  1291   \n",
            "\n",
            "   frac_incoming_packets  num_outgoing_packets  frac_outgoing_packets  \\\n",
            "0               0.914849                   121               0.085151   \n",
            "1               0.845560                    80               0.154440   \n",
            "2               0.913108                   118               0.086892   \n",
            "3               0.915629                   122               0.084371   \n",
            "4               0.918208                   115               0.081792   \n",
            "\n",
            "                          cumulative_packet_size_seq  packet_size_ratios  \\\n",
            "0  [-512, -1024, -512, -1024, -512, -1024, -512, ...            0.093077   \n",
            "1  [-512, -1024, -512, -1024, -512, -1024, -512, ...            0.182648   \n",
            "2  [-512, -1024, -512, -1024, -512, -1024, -512, ...            0.095161   \n",
            "3  [-512, -1024, -512, -1024, -512, -1024, -512, ...            0.092145   \n",
            "4  [-512, -1024, -512, -1024, -512, -1024, -512, ...            0.089078   \n",
            "\n",
            "   burst_lengths                                          burst_seq  \\\n",
            "0            156  [-1024, 512, -512, 512, -512, 1024, -7168, 512...   \n",
            "1             94  [-1024, 512, -512, 512, -512, 1024, -7168, 512...   \n",
            "2            152  [-1024, 512, -512, 512, -512, 1024, -7168, 512...   \n",
            "3            160  [-1024, 512, -512, 512, -512, 1024, -7168, 512...   \n",
            "4            158  [-1024, 512, -512, 512, -512, 1024, -7168, 512...   \n",
            "\n",
            "   average_incoming_ordering  std_dev_incoming_ordering  \\\n",
            "0                 704.106154                 398.486335   \n",
            "1                 264.406393                 150.591146   \n",
            "2                 668.259677                 381.878642   \n",
            "3                 713.503021                 406.205288   \n",
            "4                 694.740511                 395.028889   \n",
            "\n",
            "   average_outgoing_ordering  std_dev_outgoing_ordering  avg_packet_size  \\\n",
            "0                 773.322314                 515.483953            512.0   \n",
            "1                 226.162500                 139.231951            512.0   \n",
            "2                 786.110169                 472.735508            512.0   \n",
            "3                 820.139344                 513.916038            512.0   \n",
            "4                 789.608696                 503.993490            512.0   \n",
            "\n",
            "   max_packet_size  avg_inter_arrival_time  var_packet_size  \\\n",
            "0              512                0.007141              0.0   \n",
            "1              512                0.019652              0.0   \n",
            "2              512                0.008187              0.0   \n",
            "3              512                0.009246              0.0   \n",
            "4              512                0.007573              0.0   \n",
            "\n",
            "   alternative_packets_per_second_sum  \n",
            "0                        25281.847992  \n",
            "1                        34200.937813  \n",
            "2                       107531.177098  \n",
            "3                        23241.614790  \n",
            "4                        55080.330639  \n"
          ]
        }
      ]
    },
    {
      "cell_type": "markdown",
      "source": [
        "#### 25개 특징 데이터"
      ],
      "metadata": {
        "id": "bln8TIc4ddee"
      }
    },
    {
      "cell_type": "code",
      "source": [
        "mon_data_25 = {\n",
        "    'num_total_packets': num_total_packets,\n",
        "    'sum_packets': sum_packets,\n",
        "    'num_incoming_packets': num_incoming_packets,\n",
        "    'frac_incoming_packets': frac_incoming_packets,\n",
        "    'num_outgoing_packets': num_outgoing_packets,\n",
        "    'frac_outgoing_packets': frac_outgoing_packets,\n",
        "    'cumulative_packet_size_seq': cumulative_packet_size_seq,\n",
        "    'packet_size_ratios': packet_size_ratios,\n",
        "    'burst_lengths': burst_lengths,\n",
        "    'burst_seq': burst_seq,\n",
        "    'average_incoming_ordering': average_incoming_ordering,\n",
        "    'std_dev_incoming_ordering': std_dev_incoming_ordering,\n",
        "    'average_outgoing_ordering': average_outgoing_ordering,\n",
        "    'std_dev_outgoing_ordering': std_dev_outgoing_ordering,\n",
        "    'avg_packet_size':avg_packet_size,\n",
        "    'max_packet_size':max_packet_size,\n",
        "    'avg_inter_arrival_time':avg_inter_arrival_time,\n",
        "    'var_packet_size':var_packet_size,\n",
        "    'alternative_packets_per_second_sum':alternative_packets_per_second_sum,\n",
        "    'num_packets_per_second':num_packets_per_second,\n",
        "    'mean_packets_per_second':mean_packets_per_second,\n",
        "    'std_packets_per_second':std_packets_per_second,\n",
        "    'med_packets_per_second':med_packets_per_second,\n",
        "    'first_packet_direction':first_packet_direction,\n",
        "    'num_packets_longest_burst':num_packets_longest_burst\n",
        "}\n",
        "\n",
        "df_25 = pd.DataFrame(mon_data_25)\n",
        "print(df_25.head())"
      ],
      "metadata": {
        "colab": {
          "base_uri": "https://localhost:8080/"
        },
        "id": "tqhu5iixdg4R",
        "outputId": "279b2639-33d2-4624-d40f-bae13edd8980"
      },
      "execution_count": null,
      "outputs": [
        {
          "output_type": "stream",
          "name": "stdout",
          "text": [
            "   num_total_packets  sum_packets  num_incoming_packets  \\\n",
            "0               1421       727552                  1300   \n",
            "1                518       265216                   438   \n",
            "2               1358       695296                  1240   \n",
            "3               1446       740352                  1324   \n",
            "4               1406       719872                  1291   \n",
            "\n",
            "   frac_incoming_packets  num_outgoing_packets  frac_outgoing_packets  \\\n",
            "0               0.914849                   121               0.085151   \n",
            "1               0.845560                    80               0.154440   \n",
            "2               0.913108                   118               0.086892   \n",
            "3               0.915629                   122               0.084371   \n",
            "4               0.918208                   115               0.081792   \n",
            "\n",
            "                          cumulative_packet_size_seq  packet_size_ratios  \\\n",
            "0  [-512, -1024, -512, -1024, -512, -1024, -512, ...            0.093077   \n",
            "1  [-512, -1024, -512, -1024, -512, -1024, -512, ...            0.182648   \n",
            "2  [-512, -1024, -512, -1024, -512, -1024, -512, ...            0.095161   \n",
            "3  [-512, -1024, -512, -1024, -512, -1024, -512, ...            0.092145   \n",
            "4  [-512, -1024, -512, -1024, -512, -1024, -512, ...            0.089078   \n",
            "\n",
            "   burst_lengths                                          burst_seq  ...  \\\n",
            "0            156  [-1024, 512, -512, 512, -512, 1024, -7168, 512...  ...   \n",
            "1             94  [-1024, 512, -512, 512, -512, 1024, -7168, 512...  ...   \n",
            "2            152  [-1024, 512, -512, 512, -512, 1024, -7168, 512...  ...   \n",
            "3            160  [-1024, 512, -512, 512, -512, 1024, -7168, 512...  ...   \n",
            "4            158  [-1024, 512, -512, 512, -512, 1024, -7168, 512...  ...   \n",
            "\n",
            "   max_packet_size  avg_inter_arrival_time  var_packet_size  \\\n",
            "0              512                0.007141              0.0   \n",
            "1              512                0.019652              0.0   \n",
            "2              512                0.008187              0.0   \n",
            "3              512                0.009246              0.0   \n",
            "4              512                0.007573              0.0   \n",
            "\n",
            "   alternative_packets_per_second_sum  num_packets_per_second  \\\n",
            "0                        25281.847992              140.138067   \n",
            "1                        34200.937813               50.984252   \n",
            "2                       107531.177098              122.232223   \n",
            "3                        23241.614790              108.233533   \n",
            "4                        55080.330639              132.142857   \n",
            "\n",
            "   mean_packets_per_second  std_packets_per_second  med_packets_per_second  \\\n",
            "0                 4.315749                1.128739                    4.09   \n",
            "1                 4.611815                1.371935                    4.80   \n",
            "2                 5.488969                1.179699                    5.15   \n",
            "3                 5.995512                1.709479                    5.57   \n",
            "4                 4.698869                1.297546                    4.31   \n",
            "\n",
            "   first_packet_direction  num_packets_longest_burst  \n",
            "0                      -1                         66  \n",
            "1                      -1                         50  \n",
            "2                      -1                         50  \n",
            "3                      -1                         70  \n",
            "4                      -1                         60  \n",
            "\n",
            "[5 rows x 25 columns]\n"
          ]
        }
      ]
    },
    {
      "cell_type": "markdown",
      "source": [
        "#### label 확인"
      ],
      "metadata": {
        "id": "Lic_St2WfSDs"
      }
    },
    {
      "cell_type": "code",
      "source": [
        "label = {'label': y}\n",
        "df_label = pd.DataFrame(label)\n",
        "\n",
        "print(len(df_label))\n",
        "print(df_label.head())"
      ],
      "metadata": {
        "colab": {
          "base_uri": "https://localhost:8080/"
        },
        "id": "yEM3RMQXfXoj",
        "outputId": "cafd386a-4564-40dd-cdf2-dbd23bd112f8"
      },
      "execution_count": null,
      "outputs": [
        {
          "output_type": "stream",
          "name": "stdout",
          "text": [
            "19000\n",
            "   label\n",
            "0      0\n",
            "1      0\n",
            "2      0\n",
            "3      0\n",
            "4      0\n"
          ]
        }
      ]
    },
    {
      "cell_type": "markdown",
      "source": [
        "### csv 파일 변환"
      ],
      "metadata": {
        "id": "J2RU87N6e6z3"
      }
    },
    {
      "cell_type": "code",
      "source": [
        "df_14.to_csv('/content/drive/MyDrive/ML_2024_2/mon_features14.csv', index=False)\n",
        "df_19.to_csv('/content/drive/MyDrive/ML_2024_2/mon_features19.csv', index=False)\n",
        "df_25.to_csv('/content/drive/MyDrive/ML_2024_2/mon_features25.csv', index=False)\n",
        "df_label.to_csv('/content/drive/MyDrive/ML_2024_2/mon_label.csv', index=False)"
      ],
      "metadata": {
        "id": "Ut2N6VN0e5y-"
      },
      "execution_count": null,
      "outputs": []
    },
    {
      "cell_type": "markdown",
      "source": [
        "## unmonitored 특징 추출"
      ],
      "metadata": {
        "id": "P0yD9qjt_PG9"
      }
    },
    {
      "cell_type": "code",
      "source": [
        "import pickle\n",
        "\n",
        "TOTAL_URLS = 3000  # total number in the dataset\n",
        "\n",
        "# Load 3000 unmon pickle file\n",
        "print(\"Loading datafile...\")\n",
        "with open('/content/drive/MyDrive/ML_2024_2/unmon_standard10_3000.pkl', 'rb') as f:  # Path to unmon_standard10.pkl in Colab\n",
        "    x = pickle.load(f)\n",
        "\n",
        "size = len(x)\n",
        "print(f'Total samples: {size}')\n",
        "\n",
        "X1 = [] # Array to store instances (timestamps) - 10,000 instances, e.g., [[0.0, 0.5, 3.4, ...], [0.0, 4.5, ...], [0.0, 1.5, ...], ... [... ,45.8]]\n",
        "X2 = [] # Array to store instances (direction*size) - size information\n",
        "\n",
        "for i in range(TOTAL_URLS):\n",
        "    size_seq = []\n",
        "    time_seq = []\n",
        "    for c in x[i]:\n",
        "        dr = 1 if c > 0 else -1\n",
        "        time_seq.append(abs(c))\n",
        "        size_seq.append(dr * 512) # In the pickle file, there is no size information, so the conversion code is set to multiply by 512 uniformly.\n",
        "    X1.append(time_seq)\n",
        "    X2.append(size_seq)\n",
        "\n",
        "y = [-1] * 3000\n",
        "\n",
        "print(len(X1)) # Print the length of X1\n",
        "print(len(y))"
      ],
      "metadata": {
        "id": "Dd58HdgJ-jFV",
        "colab": {
          "base_uri": "https://localhost:8080/"
        },
        "outputId": "fcc33f8b-0a53-4696-ae11-9bb4070b4ddd"
      },
      "execution_count": null,
      "outputs": [
        {
          "output_type": "stream",
          "name": "stdout",
          "text": [
            "Loading datafile...\n",
            "Total samples: 3000\n",
            "3000\n",
            "3000\n"
          ]
        }
      ]
    },
    {
      "cell_type": "code",
      "source": [
        "num_total_packets = [] # feature 1\n",
        "sum_packets = [] # feature 2\n",
        "num_incoming_packets = [] # feature 3\n",
        "frac_incoming_packets = [] # feature 4\n",
        "num_outgoing_packets=[] # feature 5\n",
        "frac_outgoing_packets=[] # feature 6\n",
        "cumulative_packet_size_seq = [] # feature 7\n",
        "packet_size_ratios = [] # feature 8\n",
        "burst_lengths = []  # feature 9\n",
        "burst_seq = []  # feature 10\n",
        "average_incoming_ordering=[] # feature 11\n",
        "std_dev_incoming_ordering=[] # feature 12\n",
        "average_outgoing_ordering=[] # feature 13\n",
        "std_dev_outgoing_ordering=[] # feature14"
      ],
      "metadata": {
        "id": "d0hDs2kGeP5g"
      },
      "execution_count": null,
      "outputs": []
    },
    {
      "cell_type": "code",
      "source": [
        "for size_seq in X2:\n",
        "    # 1. Total number of pacekts\n",
        "    total = len(size_seq)\n",
        "    num_total_packets.append(total)\n",
        "\n",
        "    # 2. Sum of packets (absolute value gives the size regardless of direction)\n",
        "    sum_pckts = sum(abs(size) for size in size_seq)\n",
        "    sum_packets.append(sum_pckts)\n",
        "\n",
        "    # 3. Number of incoming packets\n",
        "    incoming = sum(1 for size in size_seq if size < 0)\n",
        "    num_incoming_packets.append(incoming)\n",
        "\n",
        "    # 4. Number of incoming packets as a fraction of the total number of packets\n",
        "    frac_incoming = incoming / total if total > 0 else 0\n",
        "    frac_incoming_packets.append(frac_incoming)\n",
        "\n",
        "    # 5. Number of outgoing packets\n",
        "    outgoing = sum(1 for size in size_seq if size > 0)\n",
        "    num_outgoing_packets.append(outgoing)\n",
        "\n",
        "    # 6. Number of outgoing packets as a fraction of the total number of packets\n",
        "    frac_outgoing = outgoing / total if total > 0 else 0\n",
        "    frac_outgoing_packets.append(frac_outgoing)\n"
      ],
      "metadata": {
        "id": "qqhEq8j-mi9j"
      },
      "execution_count": null,
      "outputs": []
    },
    {
      "cell_type": "code",
      "source": [
        "import pandas as pd\n",
        "\n",
        "data = {\n",
        "    'feature 1': num_total_packets,\n",
        "    'feature 2': sum_packets,\n",
        "    'feature 3': num_incoming_packets,\n",
        "    'feature 4': frac_incoming_packets,\n",
        "    'feature 5': num_outgoing_packets,\n",
        "    'feature 6': frac_outgoing_packets\n",
        "}\n",
        "\n",
        "df = pd.DataFrame(data)\n",
        "print(df.head())"
      ],
      "metadata": {
        "colab": {
          "base_uri": "https://localhost:8080/"
        },
        "id": "qqeDMefums5K",
        "outputId": "d2310ea3-91c9-40cd-ccae-34165aad565f"
      },
      "execution_count": null,
      "outputs": [
        {
          "output_type": "stream",
          "name": "stdout",
          "text": [
            "   feature 1  feature 2  feature 3  feature 4  feature 5  feature 6\n",
            "0        130      66560        101   0.776923         29   0.223077\n",
            "1       9927    5082624       9189   0.925657        738   0.074343\n",
            "2        359     183808        285   0.793872         74   0.206128\n",
            "3       9948    5093376       9407   0.945617        541   0.054383\n",
            "4       2508    1284096       2215   0.883174        293   0.116826\n"
          ]
        }
      ]
    },
    {
      "cell_type": "code",
      "source": [
        " for size_seq in X2:\n",
        "    # 7. Cumulative Packet Size Sequence\n",
        "    cumulative_size = 0\n",
        "    cumulative_size_seq = []\n",
        "    for size in size_seq:\n",
        "        cumulative_size += size  # 누적 크기 계산\n",
        "        cumulative_size_seq.append(cumulative_size)\n",
        "    cumulative_packet_size_seq.append(cumulative_size_seq)\n",
        "\n",
        "    # 8. Packet Size Ratios\n",
        "    outgoing_size_sum = sum(size for size in size_seq if size > 0)\n",
        "    incoming_size_sum = abs(sum(size for size in size_seq if size < 0))  # 절대값 사용\n",
        "    packet_size_ratio = outgoing_size_sum / incoming_size_sum if incoming_size_sum > 0 else 0\n",
        "    packet_size_ratios.append(packet_size_ratio)\n",
        "\n",
        "    # 9. Burst Lengths\n",
        "    bursts = []\n",
        "    current_burst = 0\n",
        "    last_direction = np.sign(size_seq[0]) if size_seq else 0  # 초기 방향 설정\n",
        "    for size in size_seq:\n",
        "        direction = np.sign(size)\n",
        "\n",
        "        if direction == last_direction:\n",
        "            current_burst += size\n",
        "        else:\n",
        "            bursts.append(current_burst)\n",
        "            current_burst = size          # 새 버스트 시작\n",
        "            last_direction = direction\n",
        "\n",
        "    if current_burst != 0:\n",
        "        bursts.append(current_burst)  # 마지막 버스트 추가\n",
        "\n",
        "    burst_seq.append(bursts)               # 버스트 시퀀스 저장\n",
        "    burst_lengths.append(len(bursts))      # 버스트 길이 저장"
      ],
      "metadata": {
        "id": "LBvcatCwnGWh"
      },
      "execution_count": null,
      "outputs": []
    },
    {
      "cell_type": "code",
      "source": [
        "data = {\n",
        "    'feature 7': cumulative_packet_size_seq,\n",
        "    'feature 8': packet_size_ratios,\n",
        "    'feature 9': burst_lengths,\n",
        "    'feature 10': burst_seq,\n",
        "}\n",
        "\n",
        "df = pd.DataFrame(data)\n",
        "print(df.head())"
      ],
      "metadata": {
        "colab": {
          "base_uri": "https://localhost:8080/"
        },
        "id": "UlEtYlfZnKIZ",
        "outputId": "62cdacd8-0529-4916-da3d-c0d3fcbdba11"
      },
      "execution_count": null,
      "outputs": [
        {
          "output_type": "stream",
          "name": "stdout",
          "text": [
            "                                           feature 7  feature 8  feature 9  \\\n",
            "0  [-512, -1024, -512, -1024, -512, -1024, -512, ...   0.287129         35   \n",
            "1  [-512, -1024, -512, -1024, -512, -1024, -512, ...   0.080313        775   \n",
            "2  [-512, -1024, -512, -1024, -512, -1024, -512, ...   0.259649         76   \n",
            "3  [-512, -1024, -512, -1024, -512, -1024, -512, ...   0.057510        732   \n",
            "4  [-512, -1024, -512, -1024, -512, -1024, -512, ...   0.132280        340   \n",
            "\n",
            "                                          feature 10  \n",
            "0  [-1024, 512, -512, 512, -512, 512, -1024, 1536...  \n",
            "1  [-1024, 512, -512, 512, -512, 512, -1024, 1024...  \n",
            "2  [-1024, 512, -512, 512, -512, 512, -1024, 1536...  \n",
            "3  [-1024, 512, -512, 512, -512, 512, -1024, 512,...  \n",
            "4  [-1024, 512, -512, 512, -512, 512, -25600, 512...  \n"
          ]
        }
      ]
    },
    {
      "cell_type": "code",
      "source": [
        "for size_seq in X2:\n",
        "    # 11. Average of the incoming packet ordering list\n",
        "    incoming_ordering_list = []\n",
        "    for idx, size in enumerate(size_seq):\n",
        "        if size < 0:\n",
        "            incoming_ordering_list.append(idx)\n",
        "\n",
        "    average_incoming_ordering.append(np.mean(incoming_ordering_list))\n",
        "\n",
        "    # 12. Standard deviation of the incoming packet ordering list\n",
        "    std_dev_incoming_ordering.append(np.std(incoming_ordering_list))\n",
        "\n",
        "    # 13. Average of the outgoing packet ordering list\n",
        "    outgoing_ordering_list = []\n",
        "    for idx, size in enumerate(size_seq):\n",
        "        if size > 0:\n",
        "            outgoing_ordering_list.append(idx)\n",
        "    average_outgoing_ordering.append(np.mean(outgoing_ordering_list))\n",
        "\n",
        "    # 14. Standard deviation of the outgoing packet ordering list\n",
        "    std_dev_outgoing_ordering.append(np.std(outgoing_ordering_list))"
      ],
      "metadata": {
        "id": "mdWag8O2nPu0"
      },
      "execution_count": null,
      "outputs": []
    },
    {
      "cell_type": "code",
      "source": [
        "data = {\n",
        "    'feature 11': average_incoming_ordering,\n",
        "    'feature 12': std_dev_incoming_ordering,\n",
        "    'feature 13': average_outgoing_ordering,\n",
        "    'feature 14': std_dev_outgoing_ordering\n",
        "}\n",
        "\n",
        "df = pd.DataFrame(data)\n",
        "print(df.head())"
      ],
      "metadata": {
        "colab": {
          "base_uri": "https://localhost:8080/"
        },
        "id": "eMcWQ4YUnQgf",
        "outputId": "e7151606-09ec-4f3e-e2dc-547747f742bd"
      },
      "execution_count": null,
      "outputs": [
        {
          "output_type": "stream",
          "name": "stdout",
          "text": [
            "    feature 11   feature 12   feature 13   feature 14\n",
            "0    72.465347    36.304696    36.758621    27.053784\n",
            "1  5052.770595  2845.096286  3845.246612  2885.461055\n",
            "2   184.996491   100.730751   155.905405   111.145044\n",
            "3  4991.069735  2855.784563  4667.994455  3120.454082\n",
            "4  1256.969752   716.374241  1227.269625   778.715376\n"
          ]
        }
      ]
    },
    {
      "cell_type": "code",
      "source": [
        "avg_packet_size = []  # feature 15\n",
        "max_packet_size = []  # feature 16\n",
        "avg_inter_arrival_time = []  # feature 17\n",
        "var_packet_size = []  # feature 18\n",
        "alternative_packets_per_second_sum = [] # feature 19\n",
        "\n",
        "for time_seq, size_seq in zip(X1, X2):\n",
        "    # 15. Average Packet Size\n",
        "    avg_size = sum(abs(size) for size in size_seq) / len(size_seq) if size_seq else 0\n",
        "    avg_packet_size.append(avg_size)\n",
        "\n",
        "    # 16. Max Packet Size\n",
        "    max_size = max(abs(size) for size in size_seq) if size_seq else 0\n",
        "    max_packet_size.append(max_size)\n",
        "\n",
        "    # 17. Packet Inter-Arrival Time (IAT)\n",
        "    inter_arrival_time = np.mean(np.diff(time_seq)) if len(time_seq) > 1 else 0\n",
        "    avg_inter_arrival_time.append(inter_arrival_time)\n",
        "\n",
        "    # 18. Variance of Packet Size\n",
        "    var_size = np.var([abs(size) for size in size_seq]) if size_seq else 0\n",
        "    var_packet_size.append(var_size)\n",
        "\n",
        "    # 19. Alternative packets per second\n",
        "    packets_per_subset = len(size_seq) // 20 # 20 even-sized subsets\n",
        "    subset_sums = []\n",
        "\n",
        "    for i in range(0, len(size_seq), packets_per_subset):\n",
        "        start_index = i\n",
        "        end_index = min(i + packets_per_subset, len(size_seq))\n",
        "\n",
        "        time_interval = time_seq[end_index - 1] - time_seq[start_index]\n",
        "        time_interval = max(time_interval, 0.001) # Ensure that the time interval does not become zero.\n",
        "\n",
        "        packets_per_second = (end_index - start_index) / time_interval\n",
        "        subset_sums.append(packets_per_second)\n",
        "\n",
        "        if (end_index == packets_per_subset*20):\n",
        "            break\n",
        "\n",
        "    alternative_packets_per_second_sum.append(sum(subset_sums))\n"
      ],
      "metadata": {
        "id": "RNxgm0mznZBT"
      },
      "execution_count": null,
      "outputs": []
    },
    {
      "cell_type": "code",
      "source": [
        "data = {\n",
        "   'feature 15':avg_packet_size,\n",
        "   'feature 16':max_packet_size,\n",
        "   'feature 17':avg_inter_arrival_time,\n",
        "   'feature 18':var_packet_size,\n",
        "   'feature 19':alternative_packets_per_second_sum\n",
        "}\n",
        "\n",
        "df = pd.DataFrame(data)\n",
        "print(df.head())"
      ],
      "metadata": {
        "colab": {
          "base_uri": "https://localhost:8080/"
        },
        "id": "bCDSeM9Anb2f",
        "outputId": "d70b39a8-b010-416c-8d22-a9f9ba7ce0be"
      },
      "execution_count": null,
      "outputs": [
        {
          "output_type": "stream",
          "name": "stdout",
          "text": [
            "   feature 15  feature 16  feature 17  feature 18    feature 19\n",
            "0       512.0         512    0.043101         0.0  25309.451476\n",
            "1       512.0         512    0.001197         0.0  68180.017464\n",
            "2       512.0         512    0.049749         0.0   1518.989991\n",
            "3       512.0         512    0.000922         0.0  62061.265205\n",
            "4       512.0         512    0.021376         0.0  36068.101946\n"
          ]
        }
      ]
    },
    {
      "cell_type": "code",
      "source": [
        "num_packets_per_second = [] # feature 20\n",
        "mean_packets_per_second = [] # feature 21\n",
        "std_packets_per_second = [] # feature 22\n",
        "med_packets_per_second = [] #feature 23\n",
        "\n",
        "import statistics\n",
        "\n",
        "for i in range(len(X1)):\n",
        "    num_packets = len(X1[i]) / X1[i][-1]\n",
        "    mean_packets = statistics.mean(X1[i])\n",
        "    std_packets = statistics.stdev(X1[i])\n",
        "    med_packets = statistics.median(X1[i])\n",
        "\n",
        "    num_packets_per_second.append(num_packets)\n",
        "    mean_packets_per_second.append(mean_packets)\n",
        "    std_packets_per_second.append(std_packets)\n",
        "    med_packets_per_second.append(med_packets)"
      ],
      "metadata": {
        "id": "642LiMY8ngDn"
      },
      "execution_count": null,
      "outputs": []
    },
    {
      "cell_type": "code",
      "source": [
        "data = {\n",
        "   'feature 20':num_packets_per_second,\n",
        "   'feature 21':mean_packets_per_second,\n",
        "   'feature 22':std_packets_per_second,\n",
        "   'feature 23':med_packets_per_second,\n",
        "}\n",
        "\n",
        "df = pd.DataFrame(data)\n",
        "print(df.head())"
      ],
      "metadata": {
        "colab": {
          "base_uri": "https://localhost:8080/"
        },
        "id": "j0aQmfZcnjFD",
        "outputId": "0812547e-90d2-4f10-aa2b-30a6c7f8db8a"
      },
      "execution_count": null,
      "outputs": [
        {
          "output_type": "stream",
          "name": "stdout",
          "text": [
            "    feature 20  feature 21  feature 22  feature 23\n",
            "0    23.381295    3.799462    1.309629        4.18\n",
            "1   835.606061    9.884457    1.613041       10.23\n",
            "2    20.157215    9.328440    3.082876        8.68\n",
            "3  1084.841876    7.584566    1.036050        7.64\n",
            "4    46.799776   10.352085    5.565770        8.08\n"
          ]
        }
      ]
    },
    {
      "cell_type": "code",
      "source": [
        "outgoing_counts=[]\n",
        "burst_packet_counts=[]\n",
        "first_packet_direction = [] # feature 24\n",
        "num_packets_longest_burst = [] # feature 25\n",
        "\n",
        "for size_seq in X2:\n",
        "\n",
        "    bursts = 1 if size_seq else 0\n",
        "    current_direction = size_seq[0] if size_seq else None\n",
        "    current_burst_length = 1\n",
        "    longest_burst = 1\n",
        "    outgoing_counts = []\n",
        "    burst_packet_counts = []\n",
        "\n",
        "    # Feature 24: First Packet Direction\n",
        "    first_direction = 1 if size_seq and size_seq[0] > 0 else -1 if size_seq and size_seq[0] < 0 else 0\n",
        "    first_packet_direction.append(first_direction)\n",
        "\n",
        "    for i in range(1, len(size_seq)):\n",
        "        if size_seq[i] * current_direction <= 0:  # 방향이 바뀌면 새 버스트 시작\n",
        "            bursts += 1\n",
        "            outgoing_counts.append(sum(1 for size in size_seq[i - current_burst_length:i] if size > 0))\n",
        "            burst_packet_counts.append(current_burst_length)\n",
        "            longest_burst = max(longest_burst, current_burst_length)\n",
        "            current_direction = size_seq[i]\n",
        "            current_burst_length = 1\n",
        "        else:\n",
        "            current_burst_length += 1\n",
        "\n",
        "    if size_seq:\n",
        "        outgoing_counts.append(sum(1 for size in size_seq[-current_burst_length:] if size > 0))\n",
        "        burst_packet_counts.append(current_burst_length)\n",
        "        longest_burst = max(longest_burst, current_burst_length)\n",
        "\n",
        "    # Feature 25: Number of Packets in the Longest Burst 저장\n",
        "    num_packets_longest_burst.append(longest_burst)"
      ],
      "metadata": {
        "id": "OY6SknysAixG"
      },
      "execution_count": null,
      "outputs": []
    },
    {
      "cell_type": "code",
      "source": [
        "data = {\n",
        "   'feature 24':first_packet_direction,\n",
        "   'feature 25':num_packets_longest_burst\n",
        "}\n",
        "\n",
        "df = pd.DataFrame(data)\n",
        "print(df.head())"
      ],
      "metadata": {
        "colab": {
          "base_uri": "https://localhost:8080/"
        },
        "id": "ATWxmpqiAoY0",
        "outputId": "eb3382fa-04a9-4f8a-f36b-7a906a414e03"
      },
      "execution_count": null,
      "outputs": [
        {
          "output_type": "stream",
          "name": "stdout",
          "text": [
            "   feature 24  feature 25\n",
            "0          -1          32\n",
            "1          -1         100\n",
            "2          -1          33\n",
            "3          -1          85\n",
            "4          -1          70\n"
          ]
        }
      ]
    },
    {
      "cell_type": "code",
      "source": [
        "print(len(num_total_packets))\n",
        "print(len(sum_packets))\n",
        "print(len(num_incoming_packets))\n",
        "print(len(frac_incoming_packets))\n",
        "print(len(num_outgoing_packets))\n",
        "print(len(frac_outgoing_packets))\n",
        "print(len(cumulative_packet_size_seq))\n",
        "print(len(packet_size_ratios))\n",
        "print(len(burst_lengths))\n",
        "print(len(burst_seq))\n",
        "print(len(average_incoming_ordering))\n",
        "print(len(std_dev_incoming_ordering))\n",
        "print(len(average_outgoing_ordering))\n",
        "print(len(std_dev_outgoing_ordering))\n",
        "print(len(avg_packet_size))\n",
        "print(len(max_packet_size))\n",
        "print(len(avg_inter_arrival_time))\n",
        "print(len(var_packet_size))\n",
        "print(len(alternative_packets_per_second_sum))\n",
        "print(len(num_packets_per_second))\n",
        "print(len(mean_packets_per_second))\n",
        "print(len(std_packets_per_second))\n",
        "print(len(med_packets_per_second))\n",
        "print(len(first_packet_direction))\n",
        "print(len(num_packets_longest_burst))"
      ],
      "metadata": {
        "colab": {
          "base_uri": "https://localhost:8080/"
        },
        "id": "-ehTJCmJnkFI",
        "outputId": "18853d46-f312-4c50-e8c5-f1894f6f7129"
      },
      "execution_count": null,
      "outputs": [
        {
          "output_type": "stream",
          "name": "stdout",
          "text": [
            "3000\n",
            "3000\n",
            "3000\n",
            "3000\n",
            "3000\n",
            "3000\n",
            "3000\n",
            "3000\n",
            "3000\n",
            "3000\n",
            "3000\n",
            "3000\n",
            "3000\n",
            "3000\n",
            "3000\n",
            "3000\n",
            "3000\n",
            "3000\n",
            "3000\n",
            "3000\n",
            "3000\n",
            "3000\n",
            "3000\n",
            "3000\n",
            "3000\n"
          ]
        }
      ]
    },
    {
      "cell_type": "code",
      "source": [
        "unmon_data_14 = {\n",
        "    'num_total_packets': num_total_packets,\n",
        "    'sum_packets': sum_packets,\n",
        "    'num_incoming_packets': num_incoming_packets,\n",
        "    'frac_incoming_packets': frac_incoming_packets,\n",
        "    'num_outgoing_packets': num_outgoing_packets,\n",
        "    'frac_outgoing_packets': frac_outgoing_packets,\n",
        "    'cumulative_packet_size_seq': cumulative_packet_size_seq,\n",
        "    'packet_size_ratios': packet_size_ratios,\n",
        "    'burst_lengths': burst_lengths,\n",
        "    'burst_seq': burst_seq,\n",
        "    'average_incoming_ordering': average_incoming_ordering,\n",
        "    'std_dev_incoming_ordering': std_dev_incoming_ordering,\n",
        "    'average_outgoing_ordering': average_outgoing_ordering,\n",
        "    'std_dev_outgoing_ordering': std_dev_outgoing_ordering\n",
        "}\n",
        "\n",
        "df_14 = pd.DataFrame(unmon_data_14)\n",
        "print(df_14.head())"
      ],
      "metadata": {
        "colab": {
          "base_uri": "https://localhost:8080/"
        },
        "id": "jHGJVpeWoAdw",
        "outputId": "a5f086ab-e603-4085-ac63-20474e6c803f"
      },
      "execution_count": null,
      "outputs": [
        {
          "output_type": "stream",
          "name": "stdout",
          "text": [
            "   num_total_packets  sum_packets  num_incoming_packets  \\\n",
            "0                130        66560                   101   \n",
            "1               9927      5082624                  9189   \n",
            "2                359       183808                   285   \n",
            "3               9948      5093376                  9407   \n",
            "4               2508      1284096                  2215   \n",
            "\n",
            "   frac_incoming_packets  num_outgoing_packets  frac_outgoing_packets  \\\n",
            "0               0.776923                    29               0.223077   \n",
            "1               0.925657                   738               0.074343   \n",
            "2               0.793872                    74               0.206128   \n",
            "3               0.945617                   541               0.054383   \n",
            "4               0.883174                   293               0.116826   \n",
            "\n",
            "                          cumulative_packet_size_seq  packet_size_ratios  \\\n",
            "0  [-512, -1024, -512, -1024, -512, -1024, -512, ...            0.287129   \n",
            "1  [-512, -1024, -512, -1024, -512, -1024, -512, ...            0.080313   \n",
            "2  [-512, -1024, -512, -1024, -512, -1024, -512, ...            0.259649   \n",
            "3  [-512, -1024, -512, -1024, -512, -1024, -512, ...            0.057510   \n",
            "4  [-512, -1024, -512, -1024, -512, -1024, -512, ...            0.132280   \n",
            "\n",
            "   burst_lengths                                          burst_seq  \\\n",
            "0             35  [-1024, 512, -512, 512, -512, 512, -1024, 1536...   \n",
            "1            775  [-1024, 512, -512, 512, -512, 512, -1024, 1024...   \n",
            "2             76  [-1024, 512, -512, 512, -512, 512, -1024, 1536...   \n",
            "3            732  [-1024, 512, -512, 512, -512, 512, -1024, 512,...   \n",
            "4            340  [-1024, 512, -512, 512, -512, 512, -25600, 512...   \n",
            "\n",
            "   average_incoming_ordering  std_dev_incoming_ordering  \\\n",
            "0                  72.465347                  36.304696   \n",
            "1                5052.770595                2845.096286   \n",
            "2                 184.996491                 100.730751   \n",
            "3                4991.069735                2855.784563   \n",
            "4                1256.969752                 716.374241   \n",
            "\n",
            "   average_outgoing_ordering  std_dev_outgoing_ordering  \n",
            "0                  36.758621                  27.053784  \n",
            "1                3845.246612                2885.461055  \n",
            "2                 155.905405                 111.145044  \n",
            "3                4667.994455                3120.454082  \n",
            "4                1227.269625                 778.715376  \n"
          ]
        }
      ]
    },
    {
      "cell_type": "code",
      "source": [
        "unmon_data_19 = {\n",
        "    'num_total_packets': num_total_packets,\n",
        "    'sum_packets': sum_packets,\n",
        "    'num_incoming_packets': num_incoming_packets,\n",
        "    'frac_incoming_packets': frac_incoming_packets,\n",
        "    'num_outgoing_packets': num_outgoing_packets,\n",
        "    'frac_outgoing_packets': frac_outgoing_packets,\n",
        "    'cumulative_packet_size_seq': cumulative_packet_size_seq,\n",
        "    'packet_size_ratios': packet_size_ratios,\n",
        "    'burst_lengths': burst_lengths,\n",
        "    'burst_seq': burst_seq,\n",
        "    'average_incoming_ordering': average_incoming_ordering,\n",
        "    'std_dev_incoming_ordering': std_dev_incoming_ordering,\n",
        "    'average_outgoing_ordering': average_outgoing_ordering,\n",
        "    'std_dev_outgoing_ordering': std_dev_outgoing_ordering,\n",
        "    'avg_packet_size':avg_packet_size,\n",
        "    'max_packet_size':max_packet_size,\n",
        "    'avg_inter_arrival_time':avg_inter_arrival_time,\n",
        "    'var_packet_size':var_packet_size,\n",
        "    'alternative_packets_per_second_sum':alternative_packets_per_second_sum\n",
        "}\n",
        "\n",
        "df_19 = pd.DataFrame(unmon_data_19)\n",
        "print(df_19.head())"
      ],
      "metadata": {
        "colab": {
          "base_uri": "https://localhost:8080/"
        },
        "id": "kRS256oWoI5u",
        "outputId": "e58162e5-63e0-4538-a89e-fee9d1a3f0b5"
      },
      "execution_count": null,
      "outputs": [
        {
          "output_type": "stream",
          "name": "stdout",
          "text": [
            "   num_total_packets  sum_packets  num_incoming_packets  \\\n",
            "0                130        66560                   101   \n",
            "1               9927      5082624                  9189   \n",
            "2                359       183808                   285   \n",
            "3               9948      5093376                  9407   \n",
            "4               2508      1284096                  2215   \n",
            "\n",
            "   frac_incoming_packets  num_outgoing_packets  frac_outgoing_packets  \\\n",
            "0               0.776923                    29               0.223077   \n",
            "1               0.925657                   738               0.074343   \n",
            "2               0.793872                    74               0.206128   \n",
            "3               0.945617                   541               0.054383   \n",
            "4               0.883174                   293               0.116826   \n",
            "\n",
            "                          cumulative_packet_size_seq  packet_size_ratios  \\\n",
            "0  [-512, -1024, -512, -1024, -512, -1024, -512, ...            0.287129   \n",
            "1  [-512, -1024, -512, -1024, -512, -1024, -512, ...            0.080313   \n",
            "2  [-512, -1024, -512, -1024, -512, -1024, -512, ...            0.259649   \n",
            "3  [-512, -1024, -512, -1024, -512, -1024, -512, ...            0.057510   \n",
            "4  [-512, -1024, -512, -1024, -512, -1024, -512, ...            0.132280   \n",
            "\n",
            "   burst_lengths                                          burst_seq  \\\n",
            "0             35  [-1024, 512, -512, 512, -512, 512, -1024, 1536...   \n",
            "1            775  [-1024, 512, -512, 512, -512, 512, -1024, 1024...   \n",
            "2             76  [-1024, 512, -512, 512, -512, 512, -1024, 1536...   \n",
            "3            732  [-1024, 512, -512, 512, -512, 512, -1024, 512,...   \n",
            "4            340  [-1024, 512, -512, 512, -512, 512, -25600, 512...   \n",
            "\n",
            "   average_incoming_ordering  std_dev_incoming_ordering  \\\n",
            "0                  72.465347                  36.304696   \n",
            "1                5052.770595                2845.096286   \n",
            "2                 184.996491                 100.730751   \n",
            "3                4991.069735                2855.784563   \n",
            "4                1256.969752                 716.374241   \n",
            "\n",
            "   average_outgoing_ordering  std_dev_outgoing_ordering  avg_packet_size  \\\n",
            "0                  36.758621                  27.053784            512.0   \n",
            "1                3845.246612                2885.461055            512.0   \n",
            "2                 155.905405                 111.145044            512.0   \n",
            "3                4667.994455                3120.454082            512.0   \n",
            "4                1227.269625                 778.715376            512.0   \n",
            "\n",
            "   max_packet_size  avg_inter_arrival_time  var_packet_size  \\\n",
            "0              512                0.043101              0.0   \n",
            "1              512                0.001197              0.0   \n",
            "2              512                0.049749              0.0   \n",
            "3              512                0.000922              0.0   \n",
            "4              512                0.021376              0.0   \n",
            "\n",
            "   alternative_packets_per_second_sum  \n",
            "0                        25309.451476  \n",
            "1                        68180.017464  \n",
            "2                         1518.989991  \n",
            "3                        62061.265205  \n",
            "4                        36068.101946  \n"
          ]
        }
      ]
    },
    {
      "cell_type": "code",
      "source": [
        "unmon_data_25 = {\n",
        "    'num_total_packets': num_total_packets,\n",
        "    'sum_packets': sum_packets,\n",
        "    'num_incoming_packets': num_incoming_packets,\n",
        "    'frac_incoming_packets': frac_incoming_packets,\n",
        "    'num_outgoing_packets': num_outgoing_packets,\n",
        "    'frac_outgoing_packets': frac_outgoing_packets,\n",
        "    'cumulative_packet_size_seq': cumulative_packet_size_seq,\n",
        "    'packet_size_ratios': packet_size_ratios,\n",
        "    'burst_lengths': burst_lengths,\n",
        "    'burst_seq': burst_seq,\n",
        "    'average_incoming_ordering': average_incoming_ordering,\n",
        "    'std_dev_incoming_ordering': std_dev_incoming_ordering,\n",
        "    'average_outgoing_ordering': average_outgoing_ordering,\n",
        "    'std_dev_outgoing_ordering': std_dev_outgoing_ordering,\n",
        "    'avg_packet_size':avg_packet_size,\n",
        "    'max_packet_size':max_packet_size,\n",
        "    'avg_inter_arrival_time':avg_inter_arrival_time,\n",
        "    'var_packet_size':var_packet_size,\n",
        "    'alternative_packets_per_second_sum':alternative_packets_per_second_sum,\n",
        "    'num_packets_per_second':num_packets_per_second,\n",
        "    'mean_packets_per_second':mean_packets_per_second,\n",
        "    'std_packets_per_second':std_packets_per_second,\n",
        "    'med_packets_per_second':med_packets_per_second,\n",
        "    'first_packet_direction':first_packet_direction,\n",
        "    'num_packets_longest_burst':num_packets_longest_burst\n",
        "}\n",
        "\n",
        "df_25 = pd.DataFrame(unmon_data_25)\n",
        "print(df_25.head())"
      ],
      "metadata": {
        "colab": {
          "base_uri": "https://localhost:8080/"
        },
        "id": "y8_sRFmHoPKT",
        "outputId": "dd6eed33-48f8-4cdd-8280-f5903598b929"
      },
      "execution_count": null,
      "outputs": [
        {
          "output_type": "stream",
          "name": "stdout",
          "text": [
            "   num_total_packets  sum_packets  num_incoming_packets  \\\n",
            "0                130        66560                   101   \n",
            "1               9927      5082624                  9189   \n",
            "2                359       183808                   285   \n",
            "3               9948      5093376                  9407   \n",
            "4               2508      1284096                  2215   \n",
            "\n",
            "   frac_incoming_packets  num_outgoing_packets  frac_outgoing_packets  \\\n",
            "0               0.776923                    29               0.223077   \n",
            "1               0.925657                   738               0.074343   \n",
            "2               0.793872                    74               0.206128   \n",
            "3               0.945617                   541               0.054383   \n",
            "4               0.883174                   293               0.116826   \n",
            "\n",
            "                          cumulative_packet_size_seq  packet_size_ratios  \\\n",
            "0  [-512, -1024, -512, -1024, -512, -1024, -512, ...            0.287129   \n",
            "1  [-512, -1024, -512, -1024, -512, -1024, -512, ...            0.080313   \n",
            "2  [-512, -1024, -512, -1024, -512, -1024, -512, ...            0.259649   \n",
            "3  [-512, -1024, -512, -1024, -512, -1024, -512, ...            0.057510   \n",
            "4  [-512, -1024, -512, -1024, -512, -1024, -512, ...            0.132280   \n",
            "\n",
            "   burst_lengths                                          burst_seq  ...  \\\n",
            "0             35  [-1024, 512, -512, 512, -512, 512, -1024, 1536...  ...   \n",
            "1            775  [-1024, 512, -512, 512, -512, 512, -1024, 1024...  ...   \n",
            "2             76  [-1024, 512, -512, 512, -512, 512, -1024, 1536...  ...   \n",
            "3            732  [-1024, 512, -512, 512, -512, 512, -1024, 512,...  ...   \n",
            "4            340  [-1024, 512, -512, 512, -512, 512, -25600, 512...  ...   \n",
            "\n",
            "   max_packet_size  avg_inter_arrival_time  var_packet_size  \\\n",
            "0              512                0.043101              0.0   \n",
            "1              512                0.001197              0.0   \n",
            "2              512                0.049749              0.0   \n",
            "3              512                0.000922              0.0   \n",
            "4              512                0.021376              0.0   \n",
            "\n",
            "   alternative_packets_per_second_sum  num_packets_per_second  \\\n",
            "0                        25309.451476               23.381295   \n",
            "1                        68180.017464              835.606061   \n",
            "2                         1518.989991               20.157215   \n",
            "3                        62061.265205             1084.841876   \n",
            "4                        36068.101946               46.799776   \n",
            "\n",
            "   mean_packets_per_second  std_packets_per_second  med_packets_per_second  \\\n",
            "0                 3.799462                1.309629                    4.18   \n",
            "1                 9.884457                1.613041                   10.23   \n",
            "2                 9.328440                3.082876                    8.68   \n",
            "3                 7.584566                1.036050                    7.64   \n",
            "4                10.352085                5.565770                    8.08   \n",
            "\n",
            "   first_packet_direction  num_packets_longest_burst  \n",
            "0                      -1                         32  \n",
            "1                      -1                        100  \n",
            "2                      -1                         33  \n",
            "3                      -1                         85  \n",
            "4                      -1                         70  \n",
            "\n",
            "[5 rows x 25 columns]\n"
          ]
        }
      ]
    },
    {
      "cell_type": "code",
      "source": [
        "label = {'label': y}\n",
        "df_label = pd.DataFrame(label)\n",
        "\n",
        "print(len(df_label))\n",
        "print(df_label.head())"
      ],
      "metadata": {
        "colab": {
          "base_uri": "https://localhost:8080/"
        },
        "id": "73BSTKeMoRZh",
        "outputId": "c3dd1be7-d27e-4b08-bd00-79a3dbc47bb6"
      },
      "execution_count": null,
      "outputs": [
        {
          "output_type": "stream",
          "name": "stdout",
          "text": [
            "3000\n",
            "   label\n",
            "0     -1\n",
            "1     -1\n",
            "2     -1\n",
            "3     -1\n",
            "4     -1\n"
          ]
        }
      ]
    },
    {
      "cell_type": "code",
      "source": [
        "df_14.to_csv('/content/drive/MyDrive/ML_2024_2/unmon_features14.csv', index=False)\n",
        "df_19.to_csv('/content/drive/MyDrive/ML_2024_2/unmon_features19.csv', index=False)\n",
        "df_25.to_csv('/content/drive/MyDrive/ML_2024_2/unmon_features25.csv', index=False)\n",
        "df_label.to_csv('/content/drive/MyDrive/ML_2024_2/unmon_label.csv', index=False)"
      ],
      "metadata": {
        "id": "hWHRLjxcodUO"
      },
      "execution_count": null,
      "outputs": []
    }
  ]
}