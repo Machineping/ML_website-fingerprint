{
  "cells": [
    {
      "cell_type": "markdown",
      "metadata": {},
      "source": [
        "<a href=\"https://colab.research.google.com/drive/1nQwL6i_yp7EhbfFTvP--0N_jOHBNu8Ko?authuser=0#scrollTo=uYebzKd5W3k5\" target=\"_parent\">\n",
        "  <img src=\"https://colab.research.google.com/assets/colab-badge.svg\" alt=\"Open In Colab\"/>\n",
        "</a>"
      ]
    },
    {
      "cell_type": "code",
      "execution_count": null,
      "metadata": {
        "id": "9kb4BhvMWzen"
      },
      "outputs": [],
      "source": [
        "import pandas as pd\n",
        "import numpy as np\n",
        "from sklearn.model_selection import train_test_split\n",
        "from sklearn.ensemble import RandomForestClassifier\n",
        "from sklearn.metrics import accuracy_score\n",
        "from sklearn.preprocessing import StandardScaler\n",
        "import pickle\n",
        "import torch\n",
        "import torch.nn as nn\n",
        "import torch.optim as optim\n",
        "from torch.utils.data import Dataset, DataLoader, random_split\n",
        "import torch.nn.functional as F\n",
        "from sklearn.metrics import confusion_matrix, roc_auc_score, precision_recall_curve, roc_curve, auc, precision_score, recall_score, f1_score\n",
        "from sklearn.svm import SVC\n",
        "from imblearn.over_sampling import SMOTE\n",
        "import matplotlib.pyplot as plt\n",
        "from sklearn.metrics import roc_curve, precision_recall_curve, auc\n",
        "from sklearn.model_selection import GridSearchCV\n",
        "from sklearn.svm import SVC"
      ]
    },
    {
      "cell_type": "code",
      "execution_count": null,
      "metadata": {
        "id": "HtaccZtvW0Hy"
      },
      "outputs": [],
      "source": [
        "mon_features25 = pd.read_csv('/content/drive/MyDrive/ML_2024_2/mon_features25.csv')\n",
        "mon_label = pd.read_csv('/content/drive/MyDrive/ML_2024_2/mon_label.csv')\n",
        "\n",
        "unmon_features25 = pd.read_csv('/content/drive/MyDrive/ML_2024_2/unmon_features25.csv')\n",
        "unmon_label = pd.read_csv('/content/drive/MyDrive/ML_2024_2/unmon_label.csv')"
      ]
    },
    {
      "cell_type": "code",
      "execution_count": null,
      "metadata": {
        "id": "siQ1VgySW1-e"
      },
      "outputs": [],
      "source": [
        "features25 = pd.concat([mon_features25, unmon_features25], ignore_index=True)\n",
        "# mon의 label은 1, unmon의 label은 -1\n",
        "mon_label = np.ones(len(mon_features25))\n",
        "unmon_label = -np.ones(len(unmon_features25))\n",
        "label = np.concatenate([mon_label, unmon_label])"
      ]
    },
    {
      "cell_type": "code",
      "execution_count": null,
      "metadata": {
        "colab": {
          "base_uri": "https://localhost:8080/"
        },
        "id": "CXkE2szqW2ww",
        "outputId": "d1534f4c-e984-4157-d55f-e98de92f3ddc"
      },
      "outputs": [
        {
          "name": "stdout",
          "output_type": "stream",
          "text": [
            "Column 'cumulative_packet_size_seq' contains string data.\n",
            "Sample data: [-512, -1024, -512, -1024, -512, -1024, -512, 0, -512, -1024, -1536, -2048, -2560, -3072, -3584, -4096, -4608, -5120, -5632, -6144, -6656, -7168, -6656, -7168, -6656, -7168, -7680, -7168, -6656, -6144, -6656, -6144, -6656, -7168, -7680, -7168, -6656, -7168, -6656, -6144, -6656, -7168, -7680, -8192, -8704, -9216, -9728, -10240, -10752, -10240, -10752, -11264, -10752, -11264, -10752, -11264, -11776, -12288, -12800, -13312, -13824, -14336, -14848, -15360, -15872, -16384, -16896, -17408, -17920, -18432, -18944, -19456, -19968, -20480, -20992, -21504, -22016, -22528, -23040, -23552, -24064, -24576, -25088, -25600, -26112, -26624, -27136, -27648, -28160, -28672, -29184, -29696, -30208, -30720, -31232, -31744, -32256, -32768, -33280, -33792, -34304, -34816, -35328, -35840, -36352, -36864, -37376, -37888, -38400, -38912, -39424, -39936, -40448, -40960, -41472, -41984, -42496, -43008, -43520, -44032, -44544, -44032, -44544, -45056, -44544, -45056, -45568, -46080, -46592, -47104, -47616, -48128, -48640, -49152, -49664, -49152, -48640, -48128, -47616, -47104, -46592, -46080, -45568, -46080, -45568, -45056, -45568, -46080, -46592, -47104, -47616, -48128, -48640, -49152, -49664, -50176, -50688, -51200, -50688, -51200, -51712, -52224, -52736, -53248, -53760, -54272, -54784, -55296, -55808, -56320, -56832, -57344, -57856, -58368, -58880, -59392, -59904, -60416, -60928, -61440, -61952, -62464, -62976, -63488, -64000, -64512, -65024, -65536, -66048, -66560, -67072, -67584, -68096, -68608, -69120, -69632, -70144, -70656, -71168, -71680, -72192, -72704, -73216, -73728, -74240, -74752, -75264, -75776, -76288, -75776, -76288, -76800, -77312, -77824, -78336, -78848, -79360, -79872, -80384, -80896, -81408, -81920, -82432, -82944, -83456, -83968, -84480, -84992, -85504, -86016, -86528, -86016, -85504, -84992, -84480, -84992, -85504, -86016, -86528, -87040, -87552, -88064, -88576, -89088, -88576, -89088, -89600, -90112, -90624, -91136, -91648, -92160, -92672, -93184, -93696, -94208, -94720, -95232, -95744, -96256, -96768, -97280, -97792, -98304, -98816, -99328, -99840, -100352, -100864, -101376, -101888, -102400, -102912, -103424, -103936, -104448, -104960, -105472, -105984, -106496, -107008, -107520, -108032, -108544, -109056, -109568, -110080, -110592, -111104, -111616, -112128, -112640, -113152, -113664, -114176, -114688, -115200, -115712, -116224, -116736, -117248, -117760, -118272, -118784, -119296, -118784, -119296, -119808, -120320, -120832, -121344, -121856, -122368, -122880, -122368, -122880, -123392, -123904, -124416, -123904, -124416, -124928, -125440, -125952, -126464, -126976, -127488, -128000, -128512, -129024, -129536, -130048, -130560, -131072, -131584, -132096, -132608, -133120, -133632, -134144, -134656, -135168, -135680, -136192, -136704, -137216, -137728, -138240, -137728, -138240, -138752, -139264, -139776, -140288, -140800, -141312, -141824, -142336, -142848, -143360, -143872, -144384, -144896, -145408, -145920, -146432, -146944, -147456, -147968, -148480, -148992, -149504, -150016, -150528, -151040, -151552, -152064, -152576, -153088, -153600, -154112, -154624, -155136, -155648, -156160, -155648, -156160, -156672, -157184, -157696, -158208, -158720, -159232, -159744, -160256, -160768, -161280, -161792, -162304, -162816, -163328, -163840, -164352, -164864, -165376, -165888, -166400, -166912, -167424, -167936, -168448, -168960, -169472, -169984, -170496, -171008, -171520, -172032, -172544, -173056, -173568, -174080, -173568, -174080, -174592, -175104, -175616, -176128, -176640, -177152, -177664, -178176, -178688, -179200, -179712, -180224, -180736, -181248, -181760, -182272, -182784, -183296, -183808, -184320, -184832, -185344, -185856, -186368, -186880, -187392, -187904, -187392, -187904, -188416, -188928, -189440, -189952, -190464, -190976, -191488, -192000, -192512, -193024, -193536, -194048, -194560, -195072, -195584, -196096, -196608, -197120, -197632, -198144, -198656, -198144, -198656, -199168, -199680, -200192, -200704, -201216, -201728, -202240, -202752, -203264, -203776, -204288, -204800, -205312, -205824, -206336, -206848, -207360, -207872, -208384, -208896, -209408, -209920, -210432, -210944, -211456, -211968, -212480, -212992, -213504, -214016, -214528, -215040, -215552, -216064, -216576, -217088, -217600, -218112, -218624, -219136, -219648, -220160, -220672, -221184, -221696, -222208, -222720, -223232, -223744, -223232, -223744, -224256, -224768, -225280, -225792, -226304, -226816, -227328, -227840, -228352, -228864, -229376, -229888, -230400, -230912, -231424, -231936, -232448, -232960, -233472, -233984, -234496, -235008, -235520, -236032, -236544, -237056, -237568, -237056, -237568, -238080, -238592, -239104, -239616, -240128, -240640, -241152, -241664, -242176, -242688, -243200, -243712, -244224, -244736, -245248, -245760, -246272, -246784, -247296, -247808, -248320, -247808, -248320, -248832, -249344, -249856, -250368, -250880, -251392, -251904, -252416, -252928, -253440, -253952, -254464, -254976, -255488, -256000, -256512, -257024, -257536, -258048, -258560, -259072, -259584, -260096, -260608, -261120, -261632, -262144, -262656, -263168, -263680, -264192, -264704, -265216, -265728, -266240, -266752, -267264, -267776, -268288, -268800, -269312, -269824, -270336, -270848, -271360, -271872, -272384, -272896, -273408, -272896, -273408, -273920, -274432, -274944, -275456, -275968, -276480, -276992, -277504, -278016, -277504, -278016, -278528, -279040, -279552, -280064, -280576, -281088, -281600, -282112, -282624, -283136, -283648, -284160, -284672, -285184, -285696, -286208, -286720, -286208, -286720, -287232, -287744, -288256, -288768, -289280, -289792, -290304, -290816, -291328, -291840, -292352, -292864, -293376, -293888, -294400, -294912, -295424, -295936, -296448, -296960, -297472, -297984, -298496, -299008, -299520, -300032, -300544, -301056, -301568, -302080, -301568, -302080, -302592, -303104, -303616, -304128, -304640, -305152, -305664, -306176, -306688, -307200, -307712, -308224, -308736, -309248, -309760, -310272, -310784, -311296, -311808, -312320, -312832, -313344, -313856, -314368, -314880, -315392, -315904, -316416, -316928, -317440, -317952, -318464, -318976, -319488, -320000, -320512, -321024, -321536, -322048, -322560, -323072, -323584, -324096, -324608, -325120, -325632, -326144, -326656, -327168, -326656, -327168, -327680, -328192, -328704, -329216, -329728, -330240, -330752, -331264, -331776, -332288, -332800, -333312, -333824, -334336, -334848, -334336, -334848, -335360, -335872, -335360, -335872, -336384, -336896, -337408, -337920, -338432, -338944, -339456, -339968, -340480, -340992, -341504, -342016, -342528, -343040, -343552, -344064, -344576, -345088, -345600, -346112, -346624, -347136, -347648, -348160, -348672, -349184, -349696, -350208, -350720, -351232, -351744, -352256, -352768, -353280, -353792, -354304, -354816, -355328, -355840, -355328, -355840, -356352, -356864, -357376, -357888, -358400, -358912, -359424, -359936, -360448, -360960, -361472, -361984, -362496, -363008, -363520, -364032, -364544, -365056, -365568, -366080, -366592, -366080, -366592, -367104, -367616, -368128, -368640, -369152, -369664, -370176, -370688, -371200, -371712, -372224, -372736, -373248, -373760, -374272, -374784, -375296, -375808, -376320, -376832, -377344, -377856, -378368, -378880, -379392, -379904, -380416, -380928, -381440, -381952, -382464, -382976, -383488, -384000, -384512, -385024, -385536, -385024, -384512, -385024, -385536, -386048, -386560, -387072, -387584, -388096, -388608, -389120, -389632, -390144, -390656, -391168, -391680, -392192, -392704, -393216, -393728, -394240, -394752, -395264, -395776, -396288, -396800, -397312, -397824, -398336, -398848, -399360, -399872, -400384, -400896, -401408, -401920, -402432, -402944, -403456, -403968, -404480, -404992, -405504, -406016, -406528, -407040, -407552, -408064, -408576, -409088, -409600, -410112, -409600, -410112, -410624, -411136, -411648, -412160, -412672, -413184, -413696, -414208, -414720, -415232, -415744, -416256, -416768, -417280, -417792, -418304, -418816, -419328, -419840, -420352, -420864, -421376, -421888, -422400, -422912, -423424, -423936, -424448, -424960, -425472, -425984, -426496, -427008, -427520, -428032, -428544, -429056, -429568, -430080, -430592, -431104, -431616, -431104, -430592, -430080, -430592, -430080, -430592, -431104, -431616, -431104, -430592, -431104, -431616, -432128, -432640, -433152, -432640, -433152, -433664, -434176, -434688, -435200, -435712, -436224, -436736, -437248, -437760, -437248, -437760, -438272, -438784, -439296, -439808, -440320, -440832, -441344, -441856, -442368, -442880, -443392, -443904, -444416, -444928, -445440, -445952, -446464, -446976, -447488, -448000, -448512, -449024, -449536, -450048, -450560, -451072, -451584, -452096, -452608, -453120, -453632, -454144, -454656, -455168, -455680, -456192, -456704, -457216, -457728, -457216, -457728, -458240, -458752, -459264, -459776, -460288, -460800, -461312, -461824, -462336, -462848, -463360, -463872, -464384, -464896, -465408, -465920, -466432, -466944, -467456, -467968, -468480, -468992, -469504, -470016, -470528, -471040, -471552, -472064, -472576, -473088, -473600, -474112, -474624, -475136, -475648, -476160, -476672, -477184, -476672, -477184, -477696, -478208, -478720, -479232, -479744, -480256, -480768, -481280, -481792, -482304, -481792, -482304, -482816, -483328, -483840, -484352, -484864, -485376, -485888, -486400, -486912, -487424, -487936, -488448, -488960, -489472, -489984, -490496, -491008, -491520, -491008, -491520, -492032, -491520, -491008, -490496, -489984, -489472, -488960, -489472, -488960, -489472, -489984, -490496, -491008, -490496, -489984, -489472, -489984, -490496, -491008, -491520, -492032, -492544, -493056, -493568, -494080, -493568, -494080, -494592, -495104, -495616, -496128, -496640, -497152, -497664, -498176, -498688, -499200, -499712, -500224, -500736, -501248, -501760, -502272, -502784, -503296, -503808, -504320, -504832, -505344, -505856, -506368, -506880, -507392, -507904, -508416, -508928, -509440, -509952, -510464, -510976, -511488, -512000, -512512, -513024, -513536, -514048, -514560, -515072, -515584, -516096, -516608, -517120, -517632, -518144, -518656, -519168, -518656, -519168, -519680, -520192, -520704, -521216, -521728, -522240, -522752, -523264, -523776, -524288, -524800, -525312, -525824, -526336, -525824, -526336, -526848, -527360, -527872, -528384, -528896, -529408, -529920, -530432, -530944, -531456, -531968, -532480, -532992, -533504, -534016, -534528, -535040, -535552, -536064, -536576, -537088, -537600, -538112, -538624, -539136, -539648, -540160, -540672, -541184, -541696, -542208, -542720, -543232, -543744, -543232, -543744, -544256, -544768, -545280, -545792, -546304, -546816, -547328, -547840, -548352, -548864, -548352, -547840, -547328, -546816, -547328, -546816, -546304, -545792, -546304, -546816, -547328, -547840, -548352, -548864, -549376, -549888, -550400, -549888, -549376, -549888, -550400, -550912, -551424, -551936, -552448, -552960, -552448, -552960, -553472, -553984, -554496, -555008, -555520, -555008, -554496, -555008, -555520, -556032, -556544, -557056, -557568, -558080, -558592, -559104, -559616, -560128, -560640, -561152, -561664, -562176, -561664, -562176, -562688, -563200, -563712, -564224, -564736, -565248, -565760, -566272, -566784, -567296, -567808, -568320, -568832, -569344, -569856, -570368, -569856, -570368, -570880, -571392, -571904, -572416, -572928, -573440, -573952, -574464, -574976, -575488, -576000, -576512, -577024, -577536, -577024, -577536, -578048, -578560, -579072, -579584, -580096, -580608, -581120, -581632, -582144, -582656, -583168, -583680, -584192, -584704, -585216, -585728, -586240, -586752, -587264, -587776, -588288, -588800, -589312, -589824, -590336, -590848, -591360, -591872, -592384, -592896, -593408, -592896, -592384, -592896, -592384, -591872, -592384, -592896, -593408, -593920, -594432, -594944, -595456, -595968, -596480, -596992, -597504, -598016, -598528, -599040, -598528, -598016, -598528, -598016, -598528, -599040, -599552, -600064, -599552, -599040, -599552, -599040, -598528, -599040, -599552, -600064, -600576, -601088, -601600, -602112, -602624, -603136, -603648, -603136, -603648, -604160, -603648, -603136, -603648, -603136, -603648, -604160, -604672, -604160, -603648, -604160, -604672, -605184, -604672, -604160, -604672, -604160, -603648]\n",
            "Column 'burst_seq' contains string data.\n",
            "Sample data: [-1024, 512, -512, 512, -512, 1024, -7168, 512, -512, 512, -1024, 1536, -512, 512, -1536, 1024, -512, 1024, -4608, 512, -1024, 512, -512, 512, -33792, 512, -1024, 512, -5120, 4096, -512, 1024, -6144, 512, -25600, 512, -10752, 2048, -4608, 512, -30720, 512, -4096, 512, -2048, 512, -14336, 512, -18432, 512, -18432, 512, -14336, 512, -11264, 512, -25600, 512, -14336, 512, -11264, 512, -25600, 512, -5120, 512, -9216, 512, -15872, 512, -25600, 512, -8192, 512, -1536, 512, -20480, 512, -11264, 512, -19456, 1024, -25600, 512, -22016, 1536, -512, 512, -1536, 1024, -2560, 512, -5120, 512, -20480, 512, -19968, 512, -5632, 512, -9728, 512, -1024, 3072, -512, 512, -2048, 1536, -4608, 512, -25600, 512, -7680, 512, -17920, 512, -5632, 2048, -512, 1536, -4608, 1024, -3584, 512, -3072, 1024, -7680, 512, -8704, 512, -7680, 512, -16384, 1024, -512, 1024, -7168, 1024, -512, 512, -2048, 1024, -512, 1024, -5120, 512, -1024, 1024, -512, 512, -1536, 1024, -1536, 1024, -512, 1024]\n"
          ]
        }
      ],
      "source": [
        "for column in features25.columns:\n",
        "    if features25[column].apply(lambda x: isinstance(x, str)).any():\n",
        "        print(f\"Column '{column}' contains string data.\")\n",
        "        print(\"Sample data:\", features25[column].iloc[0])"
      ]
    },
    {
      "cell_type": "code",
      "execution_count": null,
      "metadata": {
        "colab": {
          "base_uri": "https://localhost:8080/"
        },
        "id": "uYebzKd5W3k5",
        "outputId": "7fde0f91-96ae-4f06-c567-b4f5e574509f"
      },
      "outputs": [
        {
          "name": "stdout",
          "output_type": "stream",
          "text": [
            "   num_total_packets  sum_packets  num_incoming_packets  \\\n",
            "0               1421       727552                  1300   \n",
            "1                518       265216                   438   \n",
            "2               1358       695296                  1240   \n",
            "3               1446       740352                  1324   \n",
            "4               1406       719872                  1291   \n",
            "\n",
            "   frac_incoming_packets  num_outgoing_packets  frac_outgoing_packets  \\\n",
            "0               0.914849                   121               0.085151   \n",
            "1               0.845560                    80               0.154440   \n",
            "2               0.913108                   118               0.086892   \n",
            "3               0.915629                   122               0.084371   \n",
            "4               0.918208                   115               0.081792   \n",
            "\n",
            "   packet_size_ratios  burst_lengths  average_incoming_ordering  \\\n",
            "0            0.093077            156                 704.106154   \n",
            "1            0.182648             94                 264.406393   \n",
            "2            0.095161            152                 668.259677   \n",
            "3            0.092145            160                 713.503021   \n",
            "4            0.089078            158                 694.740511   \n",
            "\n",
            "   std_dev_incoming_ordering  ...  max_packet_size  avg_inter_arrival_time  \\\n",
            "0                 398.486335  ...              512                0.007141   \n",
            "1                 150.591146  ...              512                0.019652   \n",
            "2                 381.878642  ...              512                0.008187   \n",
            "3                 406.205288  ...              512                0.009246   \n",
            "4                 395.028889  ...              512                0.007573   \n",
            "\n",
            "   var_packet_size  alternative_packets_per_second_sum  \\\n",
            "0              0.0                        25281.847992   \n",
            "1              0.0                        34200.937813   \n",
            "2              0.0                       107531.177098   \n",
            "3              0.0                        23241.614790   \n",
            "4              0.0                        55080.330639   \n",
            "\n",
            "   num_packets_per_second  mean_packets_per_second  std_packets_per_second  \\\n",
            "0              140.138067                 4.315749                1.128739   \n",
            "1               50.984252                 4.611815                1.371935   \n",
            "2              122.232223                 5.488969                1.179699   \n",
            "3              108.233533                 5.995512                1.709479   \n",
            "4              132.142857                 4.698869                1.297546   \n",
            "\n",
            "   med_packets_per_second  first_packet_direction  num_packets_longest_burst  \n",
            "0                    4.09                      -1                         66  \n",
            "1                    4.80                      -1                         50  \n",
            "2                    5.15                      -1                         50  \n",
            "3                    5.57                      -1                         70  \n",
            "4                    4.31                      -1                         60  \n",
            "\n",
            "[5 rows x 23 columns]\n",
            "num_total_packets                       int64\n",
            "sum_packets                             int64\n",
            "num_incoming_packets                    int64\n",
            "frac_incoming_packets                 float64\n",
            "num_outgoing_packets                    int64\n",
            "frac_outgoing_packets                 float64\n",
            "packet_size_ratios                    float64\n",
            "burst_lengths                           int64\n",
            "average_incoming_ordering             float64\n",
            "std_dev_incoming_ordering             float64\n",
            "average_outgoing_ordering             float64\n",
            "std_dev_outgoing_ordering             float64\n",
            "avg_packet_size                       float64\n",
            "max_packet_size                         int64\n",
            "avg_inter_arrival_time                float64\n",
            "var_packet_size                       float64\n",
            "alternative_packets_per_second_sum    float64\n",
            "num_packets_per_second                float64\n",
            "mean_packets_per_second               float64\n",
            "std_packets_per_second                float64\n",
            "med_packets_per_second                float64\n",
            "first_packet_direction                  int64\n",
            "num_packets_longest_burst               int64\n",
            "dtype: object\n"
          ]
        }
      ],
      "source": [
        "# cumulative_packet_size_seq과 burst_seq 드롭\n",
        "features25 = features25.drop(['cumulative_packet_size_seq', 'burst_seq'], axis=1)\n",
        "\n",
        "# 드롭 후 데이터 확인\n",
        "print(features25.head())\n",
        "print(features25.dtypes)"
      ]
    },
    {
      "cell_type": "code",
      "execution_count": null,
      "metadata": {
        "colab": {
          "base_uri": "https://localhost:8080/"
        },
        "id": "pg2MdtFRW44Q",
        "outputId": "ba71fc0f-f7df-4cc5-9175-9839bd5f1925"
      },
      "outputs": [
        {
          "name": "stdout",
          "output_type": "stream",
          "text": [
            "(22000, 23)\n",
            "(22000,)\n"
          ]
        }
      ],
      "source": [
        "print(features25.shape)\n",
        "print(label.shape)"
      ]
    },
    {
      "cell_type": "code",
      "execution_count": null,
      "metadata": {
        "id": "xI6nFG2zW5ui"
      },
      "outputs": [],
      "source": [
        "X_train, X_temp, y_train, y_temp = train_test_split(features25, label, test_size=0.3, random_state=1)\n",
        "X_val, X_test, y_val, y_test = train_test_split(X_temp, y_temp, test_size=0.5, random_state=1)"
      ]
    },
    {
      "cell_type": "code",
      "execution_count": null,
      "metadata": {
        "id": "Um16Y-NCW6ry"
      },
      "outputs": [],
      "source": [
        "scaler = StandardScaler()\n",
        "X_train = scaler.fit_transform(X_train)\n",
        "X_val = scaler.transform(X_val)\n",
        "X_test = scaler.transform(X_test)"
      ]
    },
    {
      "cell_type": "markdown",
      "metadata": {
        "id": "ARDgr_oqYY4z"
      },
      "source": [
        "###Baseline - SMOTE X"
      ]
    },
    {
      "cell_type": "code",
      "execution_count": null,
      "metadata": {
        "colab": {
          "base_uri": "https://localhost:8080/"
        },
        "id": "K8lGcXtBYY40",
        "outputId": "1ad1cbf6-e458-4826-9fb1-15237d56ece6"
      },
      "outputs": [
        {
          "name": "stdout",
          "output_type": "stream",
          "text": [
            "Validation Accuracy: 0.86\n",
            "True Positive Rate (TPR): 1.00\n",
            "False Positive Rate (FPR): 0.99\n",
            "Precision: 0.86\n",
            "Recall: 1.00\n",
            "F1 Score: 0.93\n",
            "ROC AUC: 0.74\n",
            "Precision-Recall AUC: 0.93\n"
          ]
        }
      ],
      "source": [
        "# SVM 모델 정의 및 학습\n",
        "svm_model = SVC(probability=True,random_state=42)  # 기본 하이퍼파라미터 사용\n",
        "svm_model.fit(X_train, y_train)\n",
        "\n",
        "\n",
        "# 검증 데이터 평가\n",
        "y_valid_pred = svm_model.predict(X_val)\n",
        "y_valid_proba = svm_model.predict_proba(X_val)[:, 1]  # 클래스 1에 대한 확률\n",
        "\n",
        "# Accuracy\n",
        "valid_accuracy = accuracy_score(y_val, y_valid_pred)\n",
        "print(f'Validation Accuracy: {valid_accuracy:.2f}')\n",
        "\n",
        "# True Positive Rate (TPR) & False Positive Rate (FPR)\n",
        "conf_matrix = confusion_matrix(y_val, y_valid_pred)\n",
        "tn, fp, fn, tp = conf_matrix.ravel()\n",
        "\n",
        "tpr = tp / (tp + fn)  # True Positive Rate\n",
        "fpr = fp / (fp + tn)  # False Positive Rate\n",
        "\n",
        "print(f\"True Positive Rate (TPR): {tpr:.2f}\")\n",
        "print(f\"False Positive Rate (FPR): {fpr:.2f}\")\n",
        "\n",
        "# Precision & Recall\n",
        "precision = precision_score(y_val, y_valid_pred)\n",
        "recall = recall_score(y_val, y_valid_pred)\n",
        "f1 = f1_score(y_val, y_valid_pred)\n",
        "print(f\"Precision: {precision:.2f}\")\n",
        "print(f\"Recall: {recall:.2f}\")\n",
        "print(f\"F1 Score: {f1:.2f}\")\n",
        "\n",
        "# ROC AUC\n",
        "roc_auc = roc_auc_score(y_val, y_valid_proba)\n",
        "print(f\"ROC AUC: {roc_auc:.2f}\")\n",
        "\n",
        "# Precision-Recall AUC\n",
        "precision_vals, recall_vals, _ = precision_recall_curve(y_val, y_valid_proba)\n",
        "pr_auc = auc(recall_vals, precision_vals)\n",
        "print(f\"Precision-Recall AUC: {pr_auc:.2f}\")"
      ]
    },
    {
      "cell_type": "code",
      "execution_count": null,
      "metadata": {
        "id": "0BI7mZbVW8cc"
      },
      "outputs": [],
      "source": [
        "smote = SMOTE(random_state=42)\n",
        "X_train_sm, y_train_sm = smote.fit_resample(X_train, y_train)"
      ]
    },
    {
      "cell_type": "markdown",
      "metadata": {
        "id": "yjSQZBfqT1_O"
      },
      "source": [
        "###SMOTE O"
      ]
    },
    {
      "cell_type": "code",
      "execution_count": null,
      "metadata": {
        "colab": {
          "base_uri": "https://localhost:8080/"
        },
        "id": "TTYhl-3DT1Hm",
        "outputId": "bc469b9c-5604-47b6-93ec-5b8b1dc9ac7b"
      },
      "outputs": [
        {
          "name": "stdout",
          "output_type": "stream",
          "text": [
            "Validation Accuracy: 0.70\n",
            "True Positive Rate (TPR): 0.70\n",
            "False Positive Rate (FPR): 0.28\n",
            "Precision: 0.94\n",
            "Recall: 0.70\n",
            "F1 Score: 0.80\n",
            "ROC AUC: 0.78\n",
            "Precision-Recall AUC: 0.95\n"
          ]
        }
      ],
      "source": [
        "# SVM 모델 정의 및 학습\n",
        "svm_model = SVC(probability=True,random_state=42)  # 기본 하이퍼파라미터 사용\n",
        "svm_model.fit(X_train_sm, y_train_sm)\n",
        "\n",
        "\n",
        "# 검증 데이터 평가\n",
        "y_valid_pred = svm_model.predict(X_val)\n",
        "y_valid_proba = svm_model.predict_proba(X_val)[:, 1]  # 클래스 1에 대한 확률\n",
        "\n",
        "# Accuracy\n",
        "valid_accuracy = accuracy_score(y_val, y_valid_pred)\n",
        "print(f'Validation Accuracy: {valid_accuracy:.2f}')\n",
        "\n",
        "# True Positive Rate (TPR) & False Positive Rate (FPR)\n",
        "conf_matrix = confusion_matrix(y_val, y_valid_pred)\n",
        "tn, fp, fn, tp = conf_matrix.ravel()\n",
        "\n",
        "tpr = tp / (tp + fn)  # True Positive Rate\n",
        "fpr = fp / (fp + tn)  # False Positive Rate\n",
        "\n",
        "print(f\"True Positive Rate (TPR): {tpr:.2f}\")\n",
        "print(f\"False Positive Rate (FPR): {fpr:.2f}\")\n",
        "\n",
        "# Precision & Recall\n",
        "precision = precision_score(y_val, y_valid_pred)\n",
        "recall = recall_score(y_val, y_valid_pred)\n",
        "f1 = f1_score(y_val, y_valid_pred)\n",
        "print(f\"Precision: {precision:.2f}\")\n",
        "print(f\"Recall: {recall:.2f}\")\n",
        "print(f\"F1 Score: {f1:.2f}\")\n",
        "\n",
        "# ROC AUC\n",
        "roc_auc = roc_auc_score(y_val, y_valid_proba)\n",
        "print(f\"ROC AUC: {roc_auc:.2f}\")\n",
        "\n",
        "# Precision-Recall AUC\n",
        "precision_vals, recall_vals, _ = precision_recall_curve(y_val, y_valid_proba)\n",
        "pr_auc = auc(recall_vals, precision_vals)\n",
        "print(f\"Precision-Recall AUC: {pr_auc:.2f}\")"
      ]
    },
    {
      "cell_type": "markdown",
      "metadata": {
        "id": "YFebjOiHT5Tt"
      },
      "source": [
        "### GridSearch"
      ]
    },
    {
      "cell_type": "code",
      "execution_count": null,
      "metadata": {
        "colab": {
          "base_uri": "https://localhost:8080/"
        },
        "id": "q-BsUAL5ydUl",
        "outputId": "db4b6e9f-b477-417c-9898-0ca8e4dc2c60"
      },
      "outputs": [
        {
          "name": "stdout",
          "output_type": "stream",
          "text": [
            "Fitting 5 folds for each of 12 candidates, totalling 60 fits\n",
            "[CV 1/5] END ........C=0.1, gamma=1, kernel=rbf;, score=0.735 total time=  35.1s\n",
            "[CV 2/5] END ........C=0.1, gamma=1, kernel=rbf;, score=0.760 total time=  35.3s\n",
            "[CV 3/5] END ........C=0.1, gamma=1, kernel=rbf;, score=0.770 total time=  36.7s\n",
            "[CV 4/5] END ........C=0.1, gamma=1, kernel=rbf;, score=0.768 total time=  35.8s\n",
            "[CV 5/5] END ........C=0.1, gamma=1, kernel=rbf;, score=0.782 total time=  35.1s\n",
            "[CV 1/5] END ......C=0.1, gamma=0.1, kernel=rbf;, score=0.688 total time=  32.6s\n",
            "[CV 2/5] END ......C=0.1, gamma=0.1, kernel=rbf;, score=0.694 total time=  34.0s\n",
            "[CV 3/5] END ......C=0.1, gamma=0.1, kernel=rbf;, score=0.714 total time=  35.4s\n",
            "[CV 4/5] END ......C=0.1, gamma=0.1, kernel=rbf;, score=0.693 total time=  33.2s\n",
            "[CV 5/5] END ......C=0.1, gamma=0.1, kernel=rbf;, score=0.704 total time=  33.4s\n",
            "[CV 1/5] END .....C=0.1, gamma=0.01, kernel=rbf;, score=0.632 total time=  35.2s\n",
            "[CV 2/5] END .....C=0.1, gamma=0.01, kernel=rbf;, score=0.637 total time=  38.2s\n",
            "[CV 3/5] END .....C=0.1, gamma=0.01, kernel=rbf;, score=0.652 total time=  42.3s\n",
            "[CV 4/5] END .....C=0.1, gamma=0.01, kernel=rbf;, score=0.625 total time=  36.3s\n",
            "[CV 5/5] END .....C=0.1, gamma=0.01, kernel=rbf;, score=0.629 total time=  38.0s\n",
            "[CV 1/5] END ..........C=1, gamma=1, kernel=rbf;, score=0.857 total time=  37.0s\n",
            "[CV 2/5] END ..........C=1, gamma=1, kernel=rbf;, score=0.880 total time=  36.2s\n",
            "[CV 3/5] END ..........C=1, gamma=1, kernel=rbf;, score=0.879 total time=  40.6s\n",
            "[CV 4/5] END ..........C=1, gamma=1, kernel=rbf;, score=0.873 total time=  37.5s\n",
            "[CV 5/5] END ..........C=1, gamma=1, kernel=rbf;, score=0.886 total time=  40.7s\n",
            "[CV 1/5] END ........C=1, gamma=0.1, kernel=rbf;, score=0.742 total time=  30.3s\n",
            "[CV 2/5] END ........C=1, gamma=0.1, kernel=rbf;, score=0.770 total time=  30.3s\n",
            "[CV 3/5] END ........C=1, gamma=0.1, kernel=rbf;, score=0.773 total time=  29.2s\n",
            "[CV 4/5] END ........C=1, gamma=0.1, kernel=rbf;, score=0.760 total time=  32.3s\n",
            "[CV 5/5] END ........C=1, gamma=0.1, kernel=rbf;, score=0.765 total time=  29.7s\n",
            "[CV 1/5] END .......C=1, gamma=0.01, kernel=rbf;, score=0.685 total time=  32.6s\n",
            "[CV 2/5] END .......C=1, gamma=0.01, kernel=rbf;, score=0.694 total time=  33.5s\n",
            "[CV 3/5] END .......C=1, gamma=0.01, kernel=rbf;, score=0.710 total time=  32.9s\n",
            "[CV 4/5] END .......C=1, gamma=0.01, kernel=rbf;, score=0.694 total time=  33.2s\n",
            "[CV 5/5] END .......C=1, gamma=0.01, kernel=rbf;, score=0.695 total time=  34.2s\n",
            "[CV 1/5] END .........C=10, gamma=1, kernel=rbf;, score=0.918 total time= 1.1min\n",
            "[CV 2/5] END .........C=10, gamma=1, kernel=rbf;, score=0.929 total time= 1.1min\n",
            "[CV 3/5] END .........C=10, gamma=1, kernel=rbf;, score=0.929 total time=  57.2s\n",
            "[CV 4/5] END .........C=10, gamma=1, kernel=rbf;, score=0.931 total time=  58.8s\n",
            "[CV 5/5] END .........C=10, gamma=1, kernel=rbf;, score=0.926 total time=  57.7s\n",
            "[CV 1/5] END .......C=10, gamma=0.1, kernel=rbf;, score=0.779 total time=  30.5s\n",
            "[CV 2/5] END .......C=10, gamma=0.1, kernel=rbf;, score=0.812 total time=  29.3s\n",
            "[CV 3/5] END .......C=10, gamma=0.1, kernel=rbf;, score=0.806 total time=  30.6s\n",
            "[CV 4/5] END .......C=10, gamma=0.1, kernel=rbf;, score=0.802 total time=  29.3s\n",
            "[CV 5/5] END .......C=10, gamma=0.1, kernel=rbf;, score=0.807 total time=  29.8s\n",
            "[CV 1/5] END ......C=10, gamma=0.01, kernel=rbf;, score=0.703 total time=  29.7s\n",
            "[CV 2/5] END ......C=10, gamma=0.01, kernel=rbf;, score=0.736 total time=  30.3s\n",
            "[CV 3/5] END ......C=10, gamma=0.01, kernel=rbf;, score=0.735 total time=  30.4s\n",
            "[CV 4/5] END ......C=10, gamma=0.01, kernel=rbf;, score=0.725 total time=  30.5s\n",
            "[CV 5/5] END ......C=10, gamma=0.01, kernel=rbf;, score=0.730 total time=  30.5s\n",
            "[CV 1/5] END ........C=100, gamma=1, kernel=rbf;, score=0.937 total time= 1.2min\n",
            "[CV 2/5] END ........C=100, gamma=1, kernel=rbf;, score=0.946 total time= 1.5min\n",
            "[CV 3/5] END ........C=100, gamma=1, kernel=rbf;, score=0.945 total time= 1.3min\n",
            "[CV 4/5] END ........C=100, gamma=1, kernel=rbf;, score=0.944 total time= 1.3min\n",
            "[CV 5/5] END ........C=100, gamma=1, kernel=rbf;, score=0.942 total time= 1.6min\n",
            "[CV 1/5] END ......C=100, gamma=0.1, kernel=rbf;, score=0.808 total time=  55.3s\n",
            "[CV 2/5] END ......C=100, gamma=0.1, kernel=rbf;, score=0.850 total time= 1.0min\n",
            "[CV 3/5] END ......C=100, gamma=0.1, kernel=rbf;, score=0.850 total time= 1.0min\n",
            "[CV 4/5] END ......C=100, gamma=0.1, kernel=rbf;, score=0.838 total time= 1.0min\n",
            "[CV 5/5] END ......C=100, gamma=0.1, kernel=rbf;, score=0.843 total time= 1.0min\n",
            "[CV 1/5] END .....C=100, gamma=0.01, kernel=rbf;, score=0.728 total time=  34.6s\n",
            "[CV 2/5] END .....C=100, gamma=0.01, kernel=rbf;, score=0.764 total time=  34.5s\n",
            "[CV 3/5] END .....C=100, gamma=0.01, kernel=rbf;, score=0.763 total time=  36.1s\n",
            "[CV 4/5] END .....C=100, gamma=0.01, kernel=rbf;, score=0.750 total time=  35.7s\n",
            "[CV 5/5] END .....C=100, gamma=0.01, kernel=rbf;, score=0.752 total time=  35.3s\n",
            "Best Params: {'C': 100, 'gamma': 1, 'kernel': 'rbf'}\n"
          ]
        }
      ],
      "source": [
        "param_grid = {'C': [0.1, 1, 10, 100],\n",
        "              'gamma': [1, 0.1, 0.01],\n",
        "              'kernel': ['rbf']}\n",
        "\n",
        "grid_search_svm = GridSearchCV(SVC(), param_grid, refit = True, verbose = 3)\n",
        "\n",
        "# fitting the model for grid search\n",
        "grid_search_svm.fit(X_train_sm, y_train_sm)\n",
        "print(f\"Best Params: {grid_search_svm.best_params_}\")"
      ]
    },
    {
      "cell_type": "code",
      "execution_count": null,
      "metadata": {
        "colab": {
          "base_uri": "https://localhost:8080/"
        },
        "id": "fm-8z11RYdnw",
        "outputId": "251edabb-537e-4b80-9932-4d7add4a89ca"
      },
      "outputs": [
        {
          "name": "stdout",
          "output_type": "stream",
          "text": [
            "Validation Accuracy: 0.84\n",
            "True Positive Rate (TPR): 0.91\n",
            "False Positive Rate (FPR): 0.63\n",
            "Precision: 0.90\n",
            "Recall: 0.91\n",
            "F1 Score: 0.91\n",
            "ROC AUC: 0.74\n",
            "Precision-Recall AUC: 0.94\n"
          ]
        }
      ],
      "source": [
        "# SVM 모델 정의 및 학습\n",
        "svm_model = SVC(kernel='rbf', C=100, gamma=1, probability=True, random_state=42)  # best 하이퍼파라미터 사용\n",
        "svm_model.fit(X_train_sm, y_train_sm)\n",
        "\n",
        "\n",
        "# 검증 데이터 평가\n",
        "y_valid_pred = svm_model.predict(X_val)\n",
        "y_valid_proba = svm_model.predict_proba(X_val)[:, 1]  # 클래스 1에 대한 확률\n",
        "\n",
        "# Accuracy\n",
        "valid_accuracy = accuracy_score(y_val, y_valid_pred)\n",
        "print(f'Validation Accuracy: {valid_accuracy:.2f}')\n",
        "\n",
        "# True Positive Rate (TPR) & False Positive Rate (FPR)\n",
        "conf_matrix = confusion_matrix(y_val, y_valid_pred)\n",
        "tn, fp, fn, tp = conf_matrix.ravel()\n",
        "\n",
        "tpr = tp / (tp + fn)  # True Positive Rate\n",
        "fpr = fp / (fp + tn)  # False Positive Rate\n",
        "\n",
        "print(f\"True Positive Rate (TPR): {tpr:.2f}\")\n",
        "print(f\"False Positive Rate (FPR): {fpr:.2f}\")\n",
        "\n",
        "# Precision & Recall\n",
        "precision = precision_score(y_val, y_valid_pred)\n",
        "recall = recall_score(y_val, y_valid_pred)\n",
        "f1 = f1_score(y_val, y_valid_pred)\n",
        "print(f\"Precision: {precision:.2f}\")\n",
        "print(f\"Recall: {recall:.2f}\")\n",
        "print(f\"F1 Score: {f1:.2f}\")\n",
        "\n",
        "# ROC AUC\n",
        "roc_auc = roc_auc_score(y_val, y_valid_proba)\n",
        "print(f\"ROC AUC: {roc_auc:.2f}\")\n",
        "\n",
        "# Precision-Recall AUC\n",
        "precision_vals, recall_vals, _ = precision_recall_curve(y_val, y_valid_proba)\n",
        "pr_auc = auc(recall_vals, precision_vals)\n",
        "print(f\"Precision-Recall AUC: {pr_auc:.2f}\")"
      ]
    },
    {
      "cell_type": "code",
      "execution_count": null,
      "metadata": {
        "colab": {
          "base_uri": "https://localhost:8080/",
          "height": 336
        },
        "id": "VrJRhx01a98n",
        "outputId": "752e830e-27c8-421a-9ff2-f3d9711a06a7"
      },
      "outputs": [
        {
          "data": {
            "image/png": "[encoded data removed]",
            "text/plain": [
              "<Figure size 1000x500 with 2 Axes>"
            ]
          },
          "metadata": {},
          "output_type": "display_data"
        }
      ],
      "source": [
        "# ROC Curve\n",
        "fpr_vals, tpr_vals, _ = roc_curve(y_val, y_valid_proba)\n",
        "roc_auc = auc(fpr_vals, tpr_vals)\n",
        "\n",
        "plt.figure(figsize=(10, 5))\n",
        "\n",
        "plt.subplot(1, 2, 1)\n",
        "plt.plot(fpr_vals, tpr_vals, label=f'ROC Curve (AUC = {roc_auc:.2f})')\n",
        "plt.plot([0, 1], [0, 1], 'k--', label='Random Guess')\n",
        "plt.xlabel('False Positive Rate (FPR)')\n",
        "plt.ylabel('True Positive Rate (TPR)')\n",
        "plt.title('ROC Curve')\n",
        "plt.legend(loc='lower right')\n",
        "\n",
        "# Precision-Recall Curve\n",
        "precision_vals, recall_vals, _ = precision_recall_curve(y_val, y_valid_proba)\n",
        "pr_auc = auc(recall_vals, precision_vals)\n",
        "\n",
        "plt.subplot(1, 2, 2)\n",
        "plt.plot(recall_vals, precision_vals, label=f'Precision-Recall Curve (AUC = {pr_auc:.2f})')\n",
        "plt.xlabel('Recall')\n",
        "plt.ylabel('Precision')\n",
        "plt.title('Precision-Recall Curve')\n",
        "plt.legend(loc='lower left')\n",
        "\n",
        "plt.tight_layout()\n",
        "plt.show()"
      ]
    },
    {
      "cell_type": "markdown",
      "metadata": {
        "id": "H78xev36ayMr"
      },
      "source": [
        "### 최종 성능 평가 - test data 사용"
      ]
    },
    {
      "cell_type": "code",
      "execution_count": null,
      "metadata": {
        "id": "H3VZcT37aUYc"
      },
      "outputs": [],
      "source": [
        "# 최종 테스트 데이터 평가\n",
        "y_test_pred = svm_model.predict(X_test)\n",
        "y_test_proba = svm_model.predict_proba(X_val)[:, 1]  # 클래스 1에 대한 확률\n",
        "\n",
        "# 정확도\n",
        "accuracy = accuracy_score(y_test, y_test_pred)\n",
        "print(f'Accuracy: {accuracy:.2f}')"
      ]
    }
  ],
  "metadata": {
    "colab": {
      "provenance": []
    },
    "kernelspec": {
      "display_name": "Python 3",
      "name": "python3"
    },
    "language_info": {
      "name": "python"
    }
  },
  "nbformat": 4,
  "nbformat_minor": 0
}
