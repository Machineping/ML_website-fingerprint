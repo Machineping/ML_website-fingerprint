{
  "cells": [
    {
      "cell_type": "markdown",
      "metadata": {
        "id": "view-in-github",
        "colab_type": "text"
      },
      "source": [
        "<a href=\"https://colab.research.google.com/github/jiuuu26/ML_website-fingerprint/blob/main/extra_credit/extra_MLP.ipynb\" target=\"_parent\"><img src=\"https://colab.research.google.com/assets/colab-badge.svg\" alt=\"Open In Colab\"/></a>"
      ]
    },
    {
      "cell_type": "code",
      "execution_count": 2,
      "metadata": {
        "id": "Ib4ZyUY-EqbQ"
      },
      "outputs": [],
      "source": [
        "import pandas as pd\n",
        "import numpy as np\n",
        "from sklearn.model_selection import train_test_split\n",
        "from sklearn.ensemble import RandomForestClassifier\n",
        "from sklearn.metrics import accuracy_score\n",
        "from sklearn.preprocessing import StandardScaler\n",
        "import pickle\n",
        "import torch\n",
        "import torch.nn as nn\n",
        "import torch.optim as optim\n",
        "from torch.utils.data import Dataset, DataLoader, random_split\n",
        "import torch.nn.functional as F\n",
        "import matplotlib.pyplot as plt\n",
        "from sklearn.metrics import roc_curve, precision_recall_curve, auc\n",
        "from sklearn.model_selection import GridSearchCV\n",
        "from sklearn.metrics import confusion_matrix, roc_auc_score, precision_recall_curve, roc_curve, auc, precision_score, recall_score, f1_score, classification_report, average_precision_score\n",
        "from sklearn.metrics import average_precision_score\n",
        "import seaborn as sns\n",
        "import xgboost as xgb\n",
        "import torch\n",
        "import torch.nn as nn\n",
        "import torch.optim as optim\n",
        "from torch.utils.data import DataLoader, TensorDataset"
      ]
    },
    {
      "cell_type": "code",
      "execution_count": 66,
      "metadata": {
        "id": "mbS3JebmE3Yf"
      },
      "outputs": [],
      "source": [
        "mon_features = pd.read_csv('/content/drive/MyDrive/ML_2024_2/extra_mon_23.csv')\n",
        "mon_label = pd.read_csv('/content/drive/MyDrive/ML_2024_2/extra_mon_label.csv')"
      ]
    },
    {
      "cell_type": "code",
      "execution_count": 67,
      "metadata": {
        "id": "vRy87JDQFtIM"
      },
      "outputs": [],
      "source": [
        "features = mon_features\n",
        "labels = mon_label"
      ]
    },
    {
      "cell_type": "code",
      "execution_count": 68,
      "metadata": {
        "id": "TBve5IOTH9cf"
      },
      "outputs": [],
      "source": [
        "labels = labels.squeeze()"
      ]
    },
    {
      "cell_type": "code",
      "execution_count": 69,
      "metadata": {
        "colab": {
          "base_uri": "https://localhost:8080/"
        },
        "id": "yCNvy6Ckqtt4",
        "outputId": "948932c7-80d7-45e4-a1e0-15779cf054f8"
      },
      "outputs": [
        {
          "output_type": "execute_result",
          "data": {
            "text/plain": [
              "(87038,)"
            ]
          },
          "metadata": {},
          "execution_count": 69
        }
      ],
      "source": [
        "labels.shape"
      ]
    },
    {
      "cell_type": "code",
      "execution_count": 70,
      "metadata": {
        "colab": {
          "base_uri": "https://localhost:8080/"
        },
        "id": "q7zGIFu-ynMB",
        "outputId": "9cd1468c-f76e-41d4-a27a-fc8d356947e0"
      },
      "outputs": [
        {
          "output_type": "stream",
          "name": "stdout",
          "text": [
            "레이블에 -1이 없습니다.\n"
          ]
        }
      ],
      "source": [
        "if -1 in labels.values:\n",
        "    print(\"레이블에 -1이 존재합니다.\")\n",
        "else:\n",
        "    print(\"레이블에 -1이 없습니다.\")"
      ]
    },
    {
      "cell_type": "code",
      "execution_count": 71,
      "metadata": {
        "colab": {
          "base_uri": "https://localhost:8080/"
        },
        "id": "aOuxRHXVyE4B",
        "outputId": "966fffa4-5833-446c-851f-a469c9029e8b"
      },
      "outputs": [
        {
          "output_type": "stream",
          "name": "stdout",
          "text": [
            "현재 고유 레이블 값: [ 0  1  2  3  4  5  6  7  8  9 10 11 12 13 14 15 16 17 18 19 20 21 22 23\n",
            " 24 25 26 27 28 29 30 31 32 33 34 35 36 37 38 39 40 41 42 43 44 45 46 47\n",
            " 48 49 50 51 52 53 54 55 56 57 58 59 60 61 62 63 64 65 66 67 68 69 70 71\n",
            " 72 73 74 75 76 77 78 79 80 81 82 83 84 85 86 87 88 89 90 91 92 93 94]\n"
          ]
        }
      ],
      "source": [
        "unique_labels = np.unique(labels)\n",
        "print(f\"현재 고유 레이블 값: {unique_labels}\")"
      ]
    },
    {
      "cell_type": "code",
      "execution_count": 72,
      "metadata": {
        "colab": {
          "base_uri": "https://localhost:8080/"
        },
        "id": "nA2Gtrz216kp",
        "outputId": "0d70e966-bacf-4876-804c-8d326e09e53b"
      },
      "outputs": [
        {
          "output_type": "stream",
          "name": "stdout",
          "text": [
            "num_total_packets                         0\n",
            "sum_packets                               0\n",
            "num_incoming_packets                      0\n",
            "frac_incoming_packets                     0\n",
            "num_outgoing_packets                      0\n",
            "frac_outgoing_packets                     0\n",
            "packet_size_ratios                        0\n",
            "burst_lengths                             0\n",
            "average_incoming_ordering              4624\n",
            "std_dev_incoming_ordering              4624\n",
            "average_outgoing_ordering             37137\n",
            "std_dev_outgoing_ordering             37137\n",
            "avg_packet_size                           0\n",
            "max_packet_size                           0\n",
            "avg_inter_arrival_time                    0\n",
            "var_packet_size                           0\n",
            "alternative_packets_per_second_sum        0\n",
            "num_packets_per_second                    0\n",
            "mean_packets_per_second                   0\n",
            "std_packets_per_second                    0\n",
            "med_packets_per_second                    0\n",
            "first_packet_direction                    0\n",
            "num_packets_longest_burst                 0\n",
            "dtype: int64\n"
          ]
        }
      ],
      "source": [
        "print(features.isnull().sum())"
      ]
    },
    {
      "cell_type": "code",
      "execution_count": 73,
      "metadata": {
        "id": "Q6P7TN0k45VP"
      },
      "outputs": [],
      "source": [
        "# 데이터의 절반 이상이 null인 column drop\n",
        "features = features.drop(['average_outgoing_ordering', 'std_dev_outgoing_ordering'], axis=1)"
      ]
    },
    {
      "cell_type": "code",
      "execution_count": 74,
      "metadata": {
        "id": "PcGHoRN3klvV"
      },
      "outputs": [],
      "source": [
        "features = features.fillna(0)"
      ]
    },
    {
      "cell_type": "code",
      "execution_count": 75,
      "metadata": {
        "id": "-ffc16sJE4Dc"
      },
      "outputs": [],
      "source": [
        "for column in features.columns:\n",
        "    if features[column].apply(lambda x: isinstance(x, str)).any():\n",
        "        print(f\"Coumn '{column}' contains string data.\")\n",
        "        print(\"Sample data:\", features[column].iloc[0])"
      ]
    },
    {
      "cell_type": "code",
      "execution_count": 76,
      "metadata": {
        "colab": {
          "base_uri": "https://localhost:8080/"
        },
        "id": "suu6idLlGIf5",
        "outputId": "e3030d9c-a8a9-411c-ec81-117b9ffebf43"
      },
      "outputs": [
        {
          "output_type": "stream",
          "name": "stdout",
          "text": [
            "   num_total_packets  sum_packets  num_incoming_packets  \\\n",
            "0                 51      26112.0                    36   \n",
            "1                308     157696.0                   308   \n",
            "2                212     108544.0                   212   \n",
            "3                517     264704.0                   411   \n",
            "4                333     170496.0                   333   \n",
            "\n",
            "   frac_incoming_packets  num_outgoing_packets  frac_outgoing_packets  \\\n",
            "0               0.705882                    15               0.294118   \n",
            "1               1.000000                     0               0.000000   \n",
            "2               1.000000                     0               0.000000   \n",
            "3               0.794971                   106               0.205029   \n",
            "4               1.000000                     0               0.000000   \n",
            "\n",
            "   packet_size_ratios  burst_lengths  average_incoming_ordering  \\\n",
            "0            0.416667              2                   17.50000   \n",
            "1            0.000000              1                  153.50000   \n",
            "2            0.000000              1                  105.50000   \n",
            "3            0.257908             82                  266.79562   \n",
            "4            0.000000              1                  166.00000   \n",
            "\n",
            "   std_dev_incoming_ordering  ...  max_packet_size  avg_inter_arrival_time  \\\n",
            "0                  10.388295  ...            512.0                0.102538   \n",
            "1                  88.911473  ...            512.0                0.006914   \n",
            "2                  61.198448  ...            512.0                0.020005   \n",
            "3                 141.040872  ...            512.0                0.013309   \n",
            "4                  96.128386  ...            512.0                0.016218   \n",
            "\n",
            "   var_packet_size  alternative_packets_per_second_sum  \\\n",
            "0              0.0                        36540.278097   \n",
            "1              0.0                        31655.348907   \n",
            "2              0.0                        26786.998182   \n",
            "3              0.0                        15513.805971   \n",
            "4              0.0                        18302.241692   \n",
            "\n",
            "   num_packets_per_second  mean_packets_per_second  std_packets_per_second  \\\n",
            "0                9.947533                 1.253829                1.891627   \n",
            "1              145.111896                 0.455774                0.532438   \n",
            "2               50.225065                 3.223250                1.049663   \n",
            "3               75.282921                 4.323082                1.037928   \n",
            "4               61.844182                 0.902940                1.083641   \n",
            "\n",
            "   med_packets_per_second  first_packet_direction  num_packets_longest_burst  \n",
            "0                0.005500                      -1                         36  \n",
            "1                0.260500                      -1                        308  \n",
            "2                3.167000                      -1                        212  \n",
            "3                4.051427                       1                         40  \n",
            "4                0.256000                      -1                        333  \n",
            "\n",
            "[5 rows x 21 columns]\n",
            "num_total_packets                       int64\n",
            "sum_packets                           float64\n",
            "num_incoming_packets                    int64\n",
            "frac_incoming_packets                 float64\n",
            "num_outgoing_packets                    int64\n",
            "frac_outgoing_packets                 float64\n",
            "packet_size_ratios                    float64\n",
            "burst_lengths                           int64\n",
            "average_incoming_ordering             float64\n",
            "std_dev_incoming_ordering             float64\n",
            "avg_packet_size                       float64\n",
            "max_packet_size                       float64\n",
            "avg_inter_arrival_time                float64\n",
            "var_packet_size                       float64\n",
            "alternative_packets_per_second_sum    float64\n",
            "num_packets_per_second                float64\n",
            "mean_packets_per_second               float64\n",
            "std_packets_per_second                float64\n",
            "med_packets_per_second                float64\n",
            "first_packet_direction                  int64\n",
            "num_packets_longest_burst               int64\n",
            "dtype: object\n"
          ]
        }
      ],
      "source": [
        "print(features.head())\n",
        "print(features.dtypes)"
      ]
    },
    {
      "cell_type": "code",
      "execution_count": 77,
      "metadata": {
        "id": "mbf04-6XF6xl"
      },
      "outputs": [],
      "source": [
        "X_train, X_temp, y_train, y_temp = train_test_split(features, labels, test_size=0.3, random_state=1)\n",
        "X_val, X_test, y_val, y_test = train_test_split(X_temp, y_temp, test_size=0.5, random_state=1)"
      ]
    },
    {
      "cell_type": "code",
      "execution_count": 78,
      "metadata": {
        "colab": {
          "base_uri": "https://localhost:8080/"
        },
        "id": "QugfyHU21qBi",
        "outputId": "a0bae17a-d307-48d0-8191-f5065e2f2791"
      },
      "outputs": [
        {
          "output_type": "stream",
          "name": "stdout",
          "text": [
            "y_train shape: (60926,)\n",
            "y_val shape: (13056,)\n",
            "y_test shape: (13056,)\n"
          ]
        }
      ],
      "source": [
        "print(\"y_train shape:\", y_train.shape)\n",
        "print(\"y_val shape:\", y_val.shape)\n",
        "print(\"y_test shape:\", y_test.shape)"
      ]
    },
    {
      "cell_type": "code",
      "execution_count": 79,
      "metadata": {
        "id": "nyqx0R21GBFz"
      },
      "outputs": [],
      "source": [
        "scaler = StandardScaler()\n",
        "X_train = scaler.fit_transform(X_train)\n",
        "X_val = scaler.transform(X_val)\n",
        "X_test = scaler.transform(X_test)"
      ]
    },
    {
      "cell_type": "code",
      "source": [
        "train_dataset = TensorDataset(torch.tensor(X_train, dtype=torch.float32), torch.tensor(y_train.values, dtype=torch.long))\n",
        "val_dataset = TensorDataset(torch.tensor(X_val, dtype=torch.float32), torch.tensor(y_val.values, dtype=torch.long))\n",
        "test_dataset = TensorDataset(torch.tensor(X_test, dtype=torch.float32), torch.tensor(y_test.values, dtype=torch.long))\n",
        "\n",
        "train_loader = DataLoader(train_dataset, batch_size=64, shuffle=True)\n",
        "val_loader = DataLoader(val_dataset, batch_size=64)\n",
        "test_loader = DataLoader(test_dataset, batch_size=64)"
      ],
      "metadata": {
        "id": "Ownc4ItUw6Q8"
      },
      "execution_count": 80,
      "outputs": []
    },
    {
      "cell_type": "code",
      "source": [
        "class MLP(nn.Module):\n",
        "    def __init__(self, input_size, hidden_size, num_classes):\n",
        "        super(MLP, self).__init__()\n",
        "        self.fc1 = nn.Linear(input_size, hidden_size)\n",
        "        self.relu = nn.ReLU()\n",
        "        self.fc2 = nn.Linear(hidden_size, num_classes)\n",
        "\n",
        "    def forward(self, x):\n",
        "        x = self.fc1(x)\n",
        "        x = self.relu(x)\n",
        "        x = self.fc2(x)\n",
        "        return x\n",
        "\n",
        "# 하이퍼파라미터 설정\n",
        "input_size = X_train.shape[1]\n",
        "hidden_size = 128\n",
        "num_classes = len(np.unique(y_train))\n",
        "learning_rate = 0.001\n",
        "num_epochs = 150\n",
        "\n",
        "device = torch.device('cuda' if torch.cuda.is_available() else 'cpu')\n",
        "model = MLP(input_size, hidden_size, num_classes)\n",
        "model.to(device)\n",
        "\n",
        "criterion = nn.CrossEntropyLoss()\n",
        "optimizer = optim.Adam(model.parameters(), lr=learning_rate)"
      ],
      "metadata": {
        "id": "OLkTMlz3xANa"
      },
      "execution_count": 83,
      "outputs": []
    },
    {
      "cell_type": "code",
      "source": [
        "import matplotlib.pyplot as plt\n",
        "\n",
        "train_losses = []\n",
        "val_accuracies = []\n",
        "\n",
        "# 모델 학습\n",
        "for epoch in range(num_epochs):\n",
        "    model.train()\n",
        "    running_loss = 0.0\n",
        "    for X_batch, y_batch in train_loader:\n",
        "        X_batch, y_batch = X_batch.to(device), y_batch.to(device)\n",
        "\n",
        "        outputs = model(X_batch)\n",
        "        loss = criterion(outputs, y_batch)\n",
        "\n",
        "        optimizer.zero_grad()\n",
        "        loss.backward()\n",
        "        optimizer.step()\n",
        "\n",
        "        running_loss += loss.item()\n",
        "\n",
        "    train_losses.append(running_loss / len(train_loader))\n",
        "\n",
        "    model.eval()\n",
        "    y_val_pred = []\n",
        "    with torch.no_grad():\n",
        "        for X_batch, _ in val_loader:\n",
        "            X_batch = X_batch.to(device)\n",
        "            outputs = model(X_batch)\n",
        "            _, preds = torch.max(outputs, 1)\n",
        "            y_val_pred.extend(preds.cpu().numpy())\n",
        "    val_accuracy = accuracy_score(y_val, y_val_pred)\n",
        "    val_accuracies.append(val_accuracy)\n",
        "\n",
        "    print(f\"Epoch [{epoch+1}/{num_epochs}], Loss: {train_losses[-1]:.4f}, Validation Accuracy: {val_accuracy:.4f}\")\n",
        "\n",
        "# 훈련 과정 시각화\n",
        "plt.figure(figsize=(12, 5))\n",
        "\n",
        "# loss 그래프\n",
        "plt.subplot(1, 2, 1)\n",
        "plt.plot(range(1, num_epochs + 1), train_losses, label='Training Loss')\n",
        "plt.xlabel('Epoch')\n",
        "plt.ylabel('Loss')\n",
        "plt.title('Training Loss Over Epochs')\n",
        "plt.legend()\n",
        "\n",
        "# valid 정확도 그래프\n",
        "plt.subplot(1, 2, 2)\n",
        "plt.plot(range(1, num_epochs + 1), val_accuracies, label='Validation Accuracy')\n",
        "plt.xlabel('Epoch')\n",
        "plt.ylabel('Accuracy')\n",
        "plt.title('Validation Accuracy Over Epochs')\n",
        "plt.legend()\n",
        "\n",
        "plt.tight_layout()\n",
        "plt.show()\n"
      ],
      "metadata": {
        "colab": {
          "base_uri": "https://localhost:8080/",
          "height": 1000
        },
        "id": "HsjaT-X80DOb",
        "outputId": "1b4a37be-1f5e-4cca-f634-326460f4f693"
      },
      "execution_count": 84,
      "outputs": [
        {
          "output_type": "stream",
          "name": "stdout",
          "text": [
            "Epoch [1/150], Loss: 4.3424, Validation Accuracy: 0.0426\n",
            "Epoch [2/150], Loss: 4.2325, Validation Accuracy: 0.0508\n",
            "Epoch [3/150], Loss: 4.1969, Validation Accuracy: 0.0515\n",
            "Epoch [4/150], Loss: 4.1766, Validation Accuracy: 0.0545\n",
            "Epoch [5/150], Loss: 4.1594, Validation Accuracy: 0.0578\n",
            "Epoch [6/150], Loss: 4.1466, Validation Accuracy: 0.0579\n",
            "Epoch [7/150], Loss: 4.1342, Validation Accuracy: 0.0604\n",
            "Epoch [8/150], Loss: 4.1248, Validation Accuracy: 0.0646\n",
            "Epoch [9/150], Loss: 4.1163, Validation Accuracy: 0.0625\n",
            "Epoch [10/150], Loss: 4.1082, Validation Accuracy: 0.0633\n",
            "Epoch [11/150], Loss: 4.1000, Validation Accuracy: 0.0672\n",
            "Epoch [12/150], Loss: 4.0934, Validation Accuracy: 0.0652\n",
            "Epoch [13/150], Loss: 4.0859, Validation Accuracy: 0.0661\n",
            "Epoch [14/150], Loss: 4.0800, Validation Accuracy: 0.0706\n",
            "Epoch [15/150], Loss: 4.0739, Validation Accuracy: 0.0663\n",
            "Epoch [16/150], Loss: 4.0686, Validation Accuracy: 0.0691\n",
            "Epoch [17/150], Loss: 4.0627, Validation Accuracy: 0.0671\n",
            "Epoch [18/150], Loss: 4.0591, Validation Accuracy: 0.0722\n",
            "Epoch [19/150], Loss: 4.0536, Validation Accuracy: 0.0715\n",
            "Epoch [20/150], Loss: 4.0500, Validation Accuracy: 0.0717\n",
            "Epoch [21/150], Loss: 4.0457, Validation Accuracy: 0.0715\n",
            "Epoch [22/150], Loss: 4.0413, Validation Accuracy: 0.0708\n",
            "Epoch [23/150], Loss: 4.0380, Validation Accuracy: 0.0716\n",
            "Epoch [24/150], Loss: 4.0345, Validation Accuracy: 0.0754\n",
            "Epoch [25/150], Loss: 4.0308, Validation Accuracy: 0.0734\n",
            "Epoch [26/150], Loss: 4.0277, Validation Accuracy: 0.0764\n",
            "Epoch [27/150], Loss: 4.0241, Validation Accuracy: 0.0758\n",
            "Epoch [28/150], Loss: 4.0210, Validation Accuracy: 0.0748\n",
            "Epoch [29/150], Loss: 4.0175, Validation Accuracy: 0.0746\n",
            "Epoch [30/150], Loss: 4.0147, Validation Accuracy: 0.0753\n",
            "Epoch [31/150], Loss: 4.0123, Validation Accuracy: 0.0754\n",
            "Epoch [32/150], Loss: 4.0094, Validation Accuracy: 0.0762\n",
            "Epoch [33/150], Loss: 4.0080, Validation Accuracy: 0.0761\n",
            "Epoch [34/150], Loss: 4.0050, Validation Accuracy: 0.0759\n",
            "Epoch [35/150], Loss: 4.0035, Validation Accuracy: 0.0760\n",
            "Epoch [36/150], Loss: 4.0010, Validation Accuracy: 0.0754\n",
            "Epoch [37/150], Loss: 3.9977, Validation Accuracy: 0.0778\n",
            "Epoch [38/150], Loss: 3.9944, Validation Accuracy: 0.0777\n",
            "Epoch [39/150], Loss: 3.9937, Validation Accuracy: 0.0767\n",
            "Epoch [40/150], Loss: 3.9920, Validation Accuracy: 0.0771\n",
            "Epoch [41/150], Loss: 3.9888, Validation Accuracy: 0.0769\n",
            "Epoch [42/150], Loss: 3.9876, Validation Accuracy: 0.0777\n",
            "Epoch [43/150], Loss: 3.9854, Validation Accuracy: 0.0764\n",
            "Epoch [44/150], Loss: 3.9834, Validation Accuracy: 0.0811\n",
            "Epoch [45/150], Loss: 3.9820, Validation Accuracy: 0.0785\n",
            "Epoch [46/150], Loss: 3.9811, Validation Accuracy: 0.0801\n",
            "Epoch [47/150], Loss: 3.9781, Validation Accuracy: 0.0783\n",
            "Epoch [48/150], Loss: 3.9754, Validation Accuracy: 0.0760\n",
            "Epoch [49/150], Loss: 3.9747, Validation Accuracy: 0.0790\n",
            "Epoch [50/150], Loss: 3.9743, Validation Accuracy: 0.0781\n",
            "Epoch [51/150], Loss: 3.9709, Validation Accuracy: 0.0787\n",
            "Epoch [52/150], Loss: 3.9697, Validation Accuracy: 0.0800\n",
            "Epoch [53/150], Loss: 3.9688, Validation Accuracy: 0.0800\n",
            "Epoch [54/150], Loss: 3.9670, Validation Accuracy: 0.0805\n",
            "Epoch [55/150], Loss: 3.9657, Validation Accuracy: 0.0795\n",
            "Epoch [56/150], Loss: 3.9635, Validation Accuracy: 0.0802\n",
            "Epoch [57/150], Loss: 3.9635, Validation Accuracy: 0.0797\n",
            "Epoch [58/150], Loss: 3.9607, Validation Accuracy: 0.0782\n",
            "Epoch [59/150], Loss: 3.9601, Validation Accuracy: 0.0813\n",
            "Epoch [60/150], Loss: 3.9587, Validation Accuracy: 0.0784\n",
            "Epoch [61/150], Loss: 3.9572, Validation Accuracy: 0.0797\n",
            "Epoch [62/150], Loss: 3.9563, Validation Accuracy: 0.0787\n",
            "Epoch [63/150], Loss: 3.9545, Validation Accuracy: 0.0790\n",
            "Epoch [64/150], Loss: 3.9531, Validation Accuracy: 0.0777\n",
            "Epoch [65/150], Loss: 3.9524, Validation Accuracy: 0.0795\n",
            "Epoch [66/150], Loss: 3.9518, Validation Accuracy: 0.0825\n",
            "Epoch [67/150], Loss: 3.9510, Validation Accuracy: 0.0807\n",
            "Epoch [68/150], Loss: 3.9506, Validation Accuracy: 0.0820\n",
            "Epoch [69/150], Loss: 3.9470, Validation Accuracy: 0.0818\n",
            "Epoch [70/150], Loss: 3.9466, Validation Accuracy: 0.0786\n",
            "Epoch [71/150], Loss: 3.9453, Validation Accuracy: 0.0803\n",
            "Epoch [72/150], Loss: 3.9449, Validation Accuracy: 0.0805\n",
            "Epoch [73/150], Loss: 3.9429, Validation Accuracy: 0.0803\n",
            "Epoch [74/150], Loss: 3.9420, Validation Accuracy: 0.0792\n",
            "Epoch [75/150], Loss: 3.9406, Validation Accuracy: 0.0834\n",
            "Epoch [76/150], Loss: 3.9403, Validation Accuracy: 0.0820\n",
            "Epoch [77/150], Loss: 3.9398, Validation Accuracy: 0.0827\n",
            "Epoch [78/150], Loss: 3.9396, Validation Accuracy: 0.0804\n",
            "Epoch [79/150], Loss: 3.9380, Validation Accuracy: 0.0807\n",
            "Epoch [80/150], Loss: 3.9366, Validation Accuracy: 0.0802\n",
            "Epoch [81/150], Loss: 3.9353, Validation Accuracy: 0.0794\n",
            "Epoch [82/150], Loss: 3.9352, Validation Accuracy: 0.0794\n",
            "Epoch [83/150], Loss: 3.9348, Validation Accuracy: 0.0830\n",
            "Epoch [84/150], Loss: 3.9322, Validation Accuracy: 0.0816\n",
            "Epoch [85/150], Loss: 3.9320, Validation Accuracy: 0.0813\n",
            "Epoch [86/150], Loss: 3.9312, Validation Accuracy: 0.0808\n",
            "Epoch [87/150], Loss: 3.9318, Validation Accuracy: 0.0807\n",
            "Epoch [88/150], Loss: 3.9284, Validation Accuracy: 0.0820\n",
            "Epoch [89/150], Loss: 3.9283, Validation Accuracy: 0.0813\n",
            "Epoch [90/150], Loss: 3.9278, Validation Accuracy: 0.0816\n",
            "Epoch [91/150], Loss: 3.9277, Validation Accuracy: 0.0838\n",
            "Epoch [92/150], Loss: 3.9255, Validation Accuracy: 0.0809\n",
            "Epoch [93/150], Loss: 3.9248, Validation Accuracy: 0.0798\n",
            "Epoch [94/150], Loss: 3.9244, Validation Accuracy: 0.0801\n",
            "Epoch [95/150], Loss: 3.9233, Validation Accuracy: 0.0825\n",
            "Epoch [96/150], Loss: 3.9240, Validation Accuracy: 0.0803\n",
            "Epoch [97/150], Loss: 3.9230, Validation Accuracy: 0.0810\n",
            "Epoch [98/150], Loss: 3.9216, Validation Accuracy: 0.0820\n",
            "Epoch [99/150], Loss: 3.9216, Validation Accuracy: 0.0813\n",
            "Epoch [100/150], Loss: 3.9215, Validation Accuracy: 0.0830\n",
            "Epoch [101/150], Loss: 3.9195, Validation Accuracy: 0.0818\n",
            "Epoch [102/150], Loss: 3.9178, Validation Accuracy: 0.0823\n",
            "Epoch [103/150], Loss: 3.9192, Validation Accuracy: 0.0824\n",
            "Epoch [104/150], Loss: 3.9176, Validation Accuracy: 0.0833\n",
            "Epoch [105/150], Loss: 3.9173, Validation Accuracy: 0.0820\n",
            "Epoch [106/150], Loss: 3.9172, Validation Accuracy: 0.0815\n",
            "Epoch [107/150], Loss: 3.9161, Validation Accuracy: 0.0826\n",
            "Epoch [108/150], Loss: 3.9139, Validation Accuracy: 0.0809\n",
            "Epoch [109/150], Loss: 3.9140, Validation Accuracy: 0.0816\n",
            "Epoch [110/150], Loss: 3.9132, Validation Accuracy: 0.0834\n",
            "Epoch [111/150], Loss: 3.9138, Validation Accuracy: 0.0813\n",
            "Epoch [112/150], Loss: 3.9122, Validation Accuracy: 0.0830\n",
            "Epoch [113/150], Loss: 3.9114, Validation Accuracy: 0.0834\n",
            "Epoch [114/150], Loss: 3.9118, Validation Accuracy: 0.0823\n",
            "Epoch [115/150], Loss: 3.9113, Validation Accuracy: 0.0829\n",
            "Epoch [116/150], Loss: 3.9113, Validation Accuracy: 0.0820\n",
            "Epoch [117/150], Loss: 3.9092, Validation Accuracy: 0.0823\n",
            "Epoch [118/150], Loss: 3.9090, Validation Accuracy: 0.0819\n",
            "Epoch [119/150], Loss: 3.9090, Validation Accuracy: 0.0823\n",
            "Epoch [120/150], Loss: 3.9083, Validation Accuracy: 0.0835\n",
            "Epoch [121/150], Loss: 3.9070, Validation Accuracy: 0.0850\n",
            "Epoch [122/150], Loss: 3.9073, Validation Accuracy: 0.0815\n",
            "Epoch [123/150], Loss: 3.9064, Validation Accuracy: 0.0833\n",
            "Epoch [124/150], Loss: 3.9058, Validation Accuracy: 0.0843\n",
            "Epoch [125/150], Loss: 3.9056, Validation Accuracy: 0.0843\n",
            "Epoch [126/150], Loss: 3.9052, Validation Accuracy: 0.0819\n",
            "Epoch [127/150], Loss: 3.9044, Validation Accuracy: 0.0814\n",
            "Epoch [128/150], Loss: 3.9035, Validation Accuracy: 0.0825\n",
            "Epoch [129/150], Loss: 3.9029, Validation Accuracy: 0.0842\n",
            "Epoch [130/150], Loss: 3.9029, Validation Accuracy: 0.0833\n",
            "Epoch [131/150], Loss: 3.9022, Validation Accuracy: 0.0826\n",
            "Epoch [132/150], Loss: 3.9025, Validation Accuracy: 0.0807\n",
            "Epoch [133/150], Loss: 3.9013, Validation Accuracy: 0.0797\n",
            "Epoch [134/150], Loss: 3.9008, Validation Accuracy: 0.0855\n",
            "Epoch [135/150], Loss: 3.9009, Validation Accuracy: 0.0821\n",
            "Epoch [136/150], Loss: 3.9005, Validation Accuracy: 0.0832\n",
            "Epoch [137/150], Loss: 3.8997, Validation Accuracy: 0.0837\n",
            "Epoch [138/150], Loss: 3.8994, Validation Accuracy: 0.0829\n",
            "Epoch [139/150], Loss: 3.8999, Validation Accuracy: 0.0826\n",
            "Epoch [140/150], Loss: 3.8988, Validation Accuracy: 0.0875\n",
            "Epoch [141/150], Loss: 3.8989, Validation Accuracy: 0.0827\n",
            "Epoch [142/150], Loss: 3.8976, Validation Accuracy: 0.0837\n",
            "Epoch [143/150], Loss: 3.8960, Validation Accuracy: 0.0845\n",
            "Epoch [144/150], Loss: 3.8978, Validation Accuracy: 0.0849\n",
            "Epoch [145/150], Loss: 3.8957, Validation Accuracy: 0.0831\n",
            "Epoch [146/150], Loss: 3.8947, Validation Accuracy: 0.0825\n",
            "Epoch [147/150], Loss: 3.8951, Validation Accuracy: 0.0824\n",
            "Epoch [148/150], Loss: 3.8964, Validation Accuracy: 0.0857\n",
            "Epoch [149/150], Loss: 3.8936, Validation Accuracy: 0.0835\n",
            "Epoch [150/150], Loss: 3.8948, Validation Accuracy: 0.0836\n"
          ]
        },
        {
          "output_type": "display_data",
          "data": {
            "text/plain": [
              "<Figure size 1200x500 with 2 Axes>"
            ],
            "image/png": "[encoded data removed]"
          },
          "metadata": {}
        }
      ]
    },
    {
      "cell_type": "code",
      "source": [
        "# 테스트 데이터 평가\n",
        "y_test_pred = []\n",
        "with torch.no_grad():\n",
        "    for X_batch, _ in test_loader:\n",
        "        X_batch = X_batch.to(device)\n",
        "        outputs = model(X_batch)\n",
        "        _, preds = torch.max(outputs, 1)\n",
        "        y_test_pred.extend(preds.cpu().numpy())\n",
        "\n",
        "test_accuracy = accuracy_score(y_test, y_test_pred)\n",
        "print(f\"Test Accuracy: {test_accuracy:.4f}\")\n",
        "print(\"\\nClassification Report:\")\n",
        "print(classification_report(y_test, y_test_pred))"
      ],
      "metadata": {
        "colab": {
          "base_uri": "https://localhost:8080/"
        },
        "id": "aUxF5QV5xGvP",
        "outputId": "692052bd-26c2-484c-ee47-67cf233cc8f1"
      },
      "execution_count": 85,
      "outputs": [
        {
          "output_type": "stream",
          "name": "stdout",
          "text": [
            "Test Accuracy: 0.0808\n",
            "\n",
            "Classification Report:\n",
            "              precision    recall  f1-score   support\n",
            "\n",
            "           0       0.04      0.03      0.03       139\n",
            "           1       0.10      0.04      0.06       150\n",
            "           2       0.05      0.06      0.05       160\n",
            "           3       0.10      0.01      0.02       164\n",
            "           4       0.18      0.01      0.03       145\n",
            "           5       0.14      0.02      0.03       157\n",
            "           6       0.11      0.14      0.12       146\n",
            "           7       0.03      0.06      0.04       122\n",
            "           8       0.06      0.01      0.01       146\n",
            "           9       0.03      0.01      0.01       142\n",
            "          10       0.04      0.05      0.04       154\n",
            "          11       0.51      0.21      0.30       141\n",
            "          12       0.05      0.10      0.06       131\n",
            "          13       0.00      0.00      0.00       136\n",
            "          14       0.13      0.02      0.03       120\n",
            "          15       0.03      0.04      0.03       134\n",
            "          16       0.08      0.14      0.10       128\n",
            "          17       0.12      0.02      0.03       148\n",
            "          18       0.06      0.23      0.10       133\n",
            "          19       0.03      0.01      0.01       155\n",
            "          20       0.11      0.19      0.14       130\n",
            "          21       0.06      0.04      0.05       139\n",
            "          22       0.05      0.04      0.04       164\n",
            "          23       0.03      0.05      0.04       112\n",
            "          24       0.14      0.11      0.12       151\n",
            "          25       0.08      0.11      0.09       103\n",
            "          26       0.05      0.02      0.03       106\n",
            "          27       0.09      0.10      0.09       144\n",
            "          28       0.02      0.01      0.01       112\n",
            "          29       0.10      0.13      0.11       142\n",
            "          30       0.23      0.31      0.26        88\n",
            "          31       0.08      0.02      0.03       131\n",
            "          32       0.03      0.01      0.01       154\n",
            "          33       0.08      0.09      0.09       125\n",
            "          34       0.07      0.03      0.04       162\n",
            "          35       0.05      0.04      0.04       155\n",
            "          36       0.05      0.06      0.05       157\n",
            "          37       0.00      0.00      0.00       145\n",
            "          38       0.05      0.04      0.04       132\n",
            "          39       0.07      0.15      0.09       122\n",
            "          40       0.02      0.01      0.02       141\n",
            "          41       0.08      0.02      0.04       161\n",
            "          42       0.04      0.01      0.01       128\n",
            "          43       0.03      0.05      0.04       134\n",
            "          44       0.10      0.21      0.13       140\n",
            "          45       0.06      0.02      0.03       139\n",
            "          46       0.00      0.00      0.00       130\n",
            "          47       0.00      0.00      0.00       146\n",
            "          48       0.09      0.06      0.07       148\n",
            "          49       0.05      0.10      0.06       105\n",
            "          50       0.10      0.11      0.10       156\n",
            "          51       0.20      0.10      0.13       133\n",
            "          52       0.04      0.01      0.02       148\n",
            "          53       0.30      0.28      0.29       134\n",
            "          54       0.06      0.02      0.03       134\n",
            "          55       0.11      0.20      0.14       125\n",
            "          56       0.06      0.03      0.04       115\n",
            "          57       0.08      0.08      0.08       133\n",
            "          58       0.05      0.16      0.07       114\n",
            "          59       0.06      0.11      0.08       137\n",
            "          60       0.00      0.00      0.00       155\n",
            "          61       0.05      0.05      0.05       136\n",
            "          62       0.07      0.11      0.09       152\n",
            "          63       0.11      0.01      0.03       142\n",
            "          64       0.10      0.06      0.07       145\n",
            "          65       0.05      0.12      0.07       145\n",
            "          66       0.13      0.16      0.15       152\n",
            "          67       0.05      0.01      0.02       153\n",
            "          68       0.06      0.01      0.02       135\n",
            "          69       0.09      0.10      0.09       135\n",
            "          70       0.07      0.44      0.13        99\n",
            "          71       0.04      0.03      0.03       158\n",
            "          72       0.02      0.01      0.01       146\n",
            "          73       0.07      0.13      0.09       169\n",
            "          74       0.09      0.09      0.09       143\n",
            "          75       0.15      0.33      0.21        95\n",
            "          76       0.16      0.21      0.19       127\n",
            "          77       0.00      0.00      0.00       131\n",
            "          78       0.05      0.03      0.04       149\n",
            "          79       0.12      0.16      0.14       146\n",
            "          80       0.07      0.15      0.10       131\n",
            "          81       0.00      0.00      0.00       140\n",
            "          82       0.19      0.19      0.19        90\n",
            "          83       0.11      0.02      0.04       135\n",
            "          84       0.07      0.18      0.10       122\n",
            "          85       0.10      0.13      0.11       136\n",
            "          86       0.25      0.17      0.20       116\n",
            "          87       0.18      0.11      0.14       146\n",
            "          88       0.04      0.16      0.06       135\n",
            "          89       0.15      0.09      0.11       139\n",
            "          90       0.11      0.14      0.12       162\n",
            "          91       0.05      0.07      0.06       136\n",
            "          92       0.13      0.04      0.06       145\n",
            "          93       0.14      0.14      0.14       136\n",
            "          94       0.06      0.14      0.08       148\n",
            "\n",
            "    accuracy                           0.08     13056\n",
            "   macro avg       0.08      0.09      0.07     13056\n",
            "weighted avg       0.08      0.08      0.07     13056\n",
            "\n"
          ]
        },
        {
          "output_type": "stream",
          "name": "stderr",
          "text": [
            "/usr/local/lib/python3.10/dist-packages/sklearn/metrics/_classification.py:1531: UndefinedMetricWarning: Precision is ill-defined and being set to 0.0 in labels with no predicted samples. Use `zero_division` parameter to control this behavior.\n",
            "  _warn_prf(average, modifier, f\"{metric.capitalize()} is\", len(result))\n",
            "/usr/local/lib/python3.10/dist-packages/sklearn/metrics/_classification.py:1531: UndefinedMetricWarning: Precision is ill-defined and being set to 0.0 in labels with no predicted samples. Use `zero_division` parameter to control this behavior.\n",
            "  _warn_prf(average, modifier, f\"{metric.capitalize()} is\", len(result))\n",
            "/usr/local/lib/python3.10/dist-packages/sklearn/metrics/_classification.py:1531: UndefinedMetricWarning: Precision is ill-defined and being set to 0.0 in labels with no predicted samples. Use `zero_division` parameter to control this behavior.\n",
            "  _warn_prf(average, modifier, f\"{metric.capitalize()} is\", len(result))\n"
          ]
        }
      ]
    }
  ],
  "metadata": {
    "colab": {
      "provenance": [],
      "mount_file_id": "1c5GMuFm-nsqyc7S0Pd38NMSuIMC0qtBI",
      "authorship_tag": "ABX9TyNiJUWICJIjVLLq8J9RpV1p",
      "include_colab_link": true
    },
    "kernelspec": {
      "display_name": "Python 3",
      "name": "python3"
    },
    "language_info": {
      "name": "python"
    }
  },
  "nbformat": 4,
  "nbformat_minor": 0
}